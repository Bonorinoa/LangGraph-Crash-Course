{
  "nbformat": 4,
  "nbformat_minor": 0,
  "metadata": {
    "colab": {
      "provenance": [],
      "authorship_tag": "ABX9TyPREwWIw05GeEoJjZ9G8kK9",
      "include_colab_link": true
    },
    "kernelspec": {
      "name": "python3",
      "display_name": "Python 3"
    },
    "language_info": {
      "name": "python"
    }
  },
  "cells": [
    {
      "cell_type": "markdown",
      "metadata": {
        "id": "view-in-github",
        "colab_type": "text"
      },
      "source": [
        "<a href=\"https://colab.research.google.com/github/Bonorinoa/LangGraph-Crash-Course/blob/main/Lesson_2.ipynb\" target=\"_parent\"><img src=\"https://colab.research.google.com/assets/colab-badge.svg\" alt=\"Open In Colab\"/></a>"
      ]
    },
    {
      "cell_type": "code",
      "source": [
        "%pip install langgraph langsmith langchain_groq langchain_core langchain_community --quiet"
      ],
      "metadata": {
        "colab": {
          "base_uri": "https://localhost:8080/"
        },
        "id": "T7dK_7TQ_w3e",
        "outputId": "aaa87ab0-e9d4-4cd7-a5b8-7b194aecee7c"
      },
      "execution_count": null,
      "outputs": [
        {
          "output_type": "stream",
          "name": "stdout",
          "text": [
            "\u001b[?25l   \u001b[90m━━━━━━━━━━━━━━━━━━━━━━━━━━━━━━━━━━━━━━━━\u001b[0m \u001b[32m0.0/148.7 kB\u001b[0m \u001b[31m?\u001b[0m eta \u001b[36m-:--:--\u001b[0m\r\u001b[2K   \u001b[91m━━━━━━━━━━━━━━━━━━━━━━━━━━━━━━━━━━━━━━\u001b[0m\u001b[91m╸\u001b[0m\u001b[90m━\u001b[0m \u001b[32m143.4/148.7 kB\u001b[0m \u001b[31m9.7 MB/s\u001b[0m eta \u001b[36m0:00:01\u001b[0m\r\u001b[2K   \u001b[90m━━━━━━━━━━━━━━━━━━━━━━━━━━━━━━━━━━━━━━━━\u001b[0m \u001b[32m148.7/148.7 kB\u001b[0m \u001b[31m3.4 MB/s\u001b[0m eta \u001b[36m0:00:00\u001b[0m\n",
            "\u001b[2K   \u001b[90m━━━━━━━━━━━━━━━━━━━━━━━━━━━━━━━━━━━━━━━━\u001b[0m \u001b[32m412.7/412.7 kB\u001b[0m \u001b[31m13.2 MB/s\u001b[0m eta \u001b[36m0:00:00\u001b[0m\n",
            "\u001b[2K   \u001b[90m━━━━━━━━━━━━━━━━━━━━━━━━━━━━━━━━━━━━━━━━\u001b[0m \u001b[32m2.5/2.5 MB\u001b[0m \u001b[31m31.2 MB/s\u001b[0m eta \u001b[36m0:00:00\u001b[0m\n",
            "\u001b[2K   \u001b[90m━━━━━━━━━━━━━━━━━━━━━━━━━━━━━━━━━━━━━━━━\u001b[0m \u001b[32m109.8/109.8 kB\u001b[0m \u001b[31m3.9 MB/s\u001b[0m eta \u001b[36m0:00:00\u001b[0m\n",
            "\u001b[2K   \u001b[90m━━━━━━━━━━━━━━━━━━━━━━━━━━━━━━━━━━━━━━━━\u001b[0m \u001b[32m44.7/44.7 kB\u001b[0m \u001b[31m1.9 MB/s\u001b[0m eta \u001b[36m0:00:00\u001b[0m\n",
            "\u001b[2K   \u001b[90m━━━━━━━━━━━━━━━━━━━━━━━━━━━━━━━━━━━━━━━━\u001b[0m \u001b[32m50.9/50.9 kB\u001b[0m \u001b[31m2.2 MB/s\u001b[0m eta \u001b[36m0:00:00\u001b[0m\n",
            "\u001b[?25h"
          ]
        }
      ]
    },
    {
      "cell_type": "markdown",
      "source": [
        "## 2. Tools and ReAct Agent\n",
        "\n",
        "In the context of LangChain, a Tool is essentially a Python function accompanied by a JSON schema that acts as a detailed description of its operation. This schema tells the language model (LLM) when and how to use the tool, including information about its name, description, and the arguments it expects to receive. Tools are fundamental because they allow language models to interact with specific functions and execute concrete tasks in our code, which makes it easier to predict and explain the workflow outcome.\n",
        "\n",
        "In LangGraph, Tools are implemented as special nodes (i.e., Python functions) that often receive a string as input and return a string as output. The string is desirable when working with LLMs, but keep in mind that your tools can return any data structure you wish.\n",
        "\n",
        "Since a Tool is any Python function, creativity is often the only limit when designing them. Common examples include API calls, mathematical operations, code compilation, or even using another LLM to evaluate some generated result.\n",
        "\n",
        "The ability to call tools is what differentiates normal chatbots from Agents, it's what gives autonomy to the LLM. However, this ability to call tools is far from perfect. Even models fine-tuned for tool use, like Groq's Llama 3, struggle with complex queries. The development process requires patience and a good amount of experimentation at this stage of the technology.\n",
        "\n",
        "When designing tools to be used by models, keep in mind the following:\n",
        "\n",
        "- Tools that are well-named, properly documented, and with appropriately defined data types are easier for models to use.\n",
        "- Design simple tools with specific scope, as they are more likely to be used correctly by models.\n",
        "- Use chat models that support tool-calling APIs to make the most of their functionality.\n",
        "\n",
        "There's no better way to learn than by doing, so let's get to work.\n",
        "\n",
        "**References:**\n",
        "\n",
        "[LangChain docs](https://python.langchain.com/docs/concepts/tools/)\n",
        "\n",
        "[Tools blog](https://blog.langchain.dev/improving-core-tool-interfaces-and-docs-in-langchain/)\n",
        "\n",
        "[Tool node](https://langchain-ai.github.io/langgraph/how-tos/tool-calling/)\n",
        "\n",
        "[Handling Tool calling errors](https://langchain-ai.github.io/langgraph/how-tos/tool-calling-errors/)\n",
        "\n",
        "[tool decorator docs](https://python.langchain.com/api_reference/core/tools/langchain_core.tools.convert.tool.html)\n"
      ],
      "metadata": {
        "id": "7cQVbCJX_lgr"
      }
    },
    {
      "cell_type": "code",
      "execution_count": null,
      "metadata": {
        "colab": {
          "base_uri": "https://localhost:8080/"
        },
        "id": "9G1sJM67_kA6",
        "outputId": "8d592a9d-d002-4c30-b28d-46fec42318ad"
      },
      "outputs": [
        {
          "name": "stdout",
          "output_type": "stream",
          "text": [
            "GROQ_API_KEY: ··········\n"
          ]
        }
      ],
      "source": [
        "from langgraph.graph import Graph, StateGraph, START, END, MessagesState\n",
        "from langchain_groq import ChatGroq\n",
        "\n",
        "from typing import TypedDict, Annotated, Sequence\n",
        "from langchain_core.messages import BaseMessage # message abstraction\n",
        "import operator\n",
        "\n",
        "import os, getpass\n",
        "from IPython.display import Image, display\n",
        "\n",
        "# utility to visualize the workflow created\n",
        "def visualize_workflow(workflow):\n",
        "    display(Image(workflow.get_graph().draw_mermaid_png()))\n",
        "\n",
        "def _set_env(var: str):\n",
        "    if not os.environ.get(var):\n",
        "        os.environ[var] = getpass.getpass(f\"{var}: \")\n",
        "\n",
        "_set_env(\"GROQ_API_KEY\")"
      ]
    },
    {
      "cell_type": "markdown",
      "source": [
        "### The @tool Decorator\n",
        "\n",
        "To create a custom Tool, we can use the @tool decorator provided by LangChain, which significantly simplifies the creation process. This decorator transforms any Python function into a LangChain BaseTool object, automatically inferring the name, description, and expected arguments of the function. Additionally, it allows us to customize these elements if desired, and offers additional features such as the ability to return artifacts (like images or dataframes) and the possibility to hide input arguments from the schema that the model sees.\n"
      ],
      "metadata": {
        "id": "DOI2vom0M0k_"
      }
    },
    {
      "cell_type": "code",
      "source": [
        "from langchain_core.tools import tool\n",
        "import pprint as pp\n",
        "\n",
        "# remember to include a docstring for the function\n",
        "@tool\n",
        "def testTool(name: str, age: int) -> str:\n",
        "\n",
        "    \"\"\"\n",
        "    This is a test tool that returns a greeting given the user's name and age.\n",
        "    \"\"\"\n",
        "\n",
        "    return f\"Hello {name}, you are {age} years old\"\n",
        "\n",
        "# Attributes generated by the decorator\n",
        "pp.pprint(testTool.__dict__) # dictionary with the tool's attributes\n",
        "print(\"---------------------\")\n",
        "print(testTool.name) # tool's name\n",
        "print(testTool.description) # tool's description\n",
        "print(testTool.args) # tool's arguments\n",
        "print(\"---------------------\")\n",
        "print(testTool.invoke({\"name\":\"Juan\", \"age\":25})) # execution/invocation of the tool, note we pass a dictionary where the keys are the tool's arguments"
      ],
      "metadata": {
        "colab": {
          "base_uri": "https://localhost:8080/"
        },
        "id": "cehAEY7B_1-O",
        "outputId": "074f04f1-bbcb-4c35-be4c-9bad67fc84a9"
      },
      "execution_count": null,
      "outputs": [
        {
          "output_type": "stream",
          "name": "stdout",
          "text": [
            "{'args_schema': <class 'langchain_core.utils.pydantic.testTool'>,\n",
            " 'callback_manager': None,\n",
            " 'callbacks': None,\n",
            " 'coroutine': None,\n",
            " 'description': \"This is a test tool that returns a greeting given the user's \"\n",
            "                'name and age.',\n",
            " 'func': <function testTool at 0x7841d898efc0>,\n",
            " 'handle_tool_error': False,\n",
            " 'handle_validation_error': False,\n",
            " 'metadata': None,\n",
            " 'name': 'testTool',\n",
            " 'response_format': 'content',\n",
            " 'return_direct': False,\n",
            " 'tags': None,\n",
            " 'verbose': False}\n",
            "---------------------\n",
            "testTool\n",
            "This is a test tool that returns a greeting given the user's name and age.\n",
            "{'name': {'title': 'Name', 'type': 'string'}, 'age': {'title': 'Age', 'type': 'integer'}}\n",
            "---------------------\n",
            "Hello Juan, you are 25 years old\n"
          ]
        }
      ]
    },
    {
      "cell_type": "code",
      "source": [
        "# we can pass annotated attributes or predefined schemas\n",
        "from typing import Annotated, List\n",
        "\n",
        "@tool\n",
        "def multiply_by_max(\n",
        "    a: Annotated[int, \"multiplo\"],\n",
        "    b: Annotated[List[int], \"lista de numeros enteros\"],\n",
        ") -> int:\n",
        "    \"\"\"Multiply a by the max in list b.\"\"\"\n",
        "    return a * max(b)\n",
        "\n",
        "\n",
        "pp.pprint(multiply_by_max.args_schema.model_json_schema())\n",
        "print(\"-------\")\n",
        "print(multiply_by_max.invoke({\"a\": 2, \"b\": [1,2,3]}))"
      ],
      "metadata": {
        "colab": {
          "base_uri": "https://localhost:8080/"
        },
        "id": "hMYcAdkq_3Wl",
        "outputId": "ccc47ba8-3a0f-4988-fe1b-1a25bda5397d"
      },
      "execution_count": null,
      "outputs": [
        {
          "output_type": "stream",
          "name": "stdout",
          "text": [
            "{'description': 'Multiply a by the max in list b.',\n",
            " 'properties': {'a': {'description': 'multiplo',\n",
            "                      'title': 'A',\n",
            "                      'type': 'integer'},\n",
            "                'b': {'description': 'lista de numeros enteros',\n",
            "                      'items': {'type': 'integer'},\n",
            "                      'title': 'B',\n",
            "                      'type': 'array'}},\n",
            " 'required': ['a', 'b'],\n",
            " 'title': 'multiply_by_max',\n",
            " 'type': 'object'}\n",
            "-------\n",
            "6\n"
          ]
        }
      ]
    },
    {
      "cell_type": "code",
      "source": [
        "# even better, we can use Pydantic to customize the tool's name and the schema separately\n",
        "from pydantic import BaseModel, Field\n",
        "\n",
        "class CalculatorInput(BaseModel):\n",
        "    a: int = Field(description=\"First number\")\n",
        "    b: int = Field(description=\"Second number\")\n",
        "\n",
        "\n",
        "@tool(\"multiplication-tool\", args_schema=CalculatorInput, return_direct=True)\n",
        "def multiply(a: int, b: int) -> int:\n",
        "    \"\"\"Multiply two numbers together.\"\"\"\n",
        "    return a * b\n",
        "\n",
        "\n",
        "# Let's inspect some of the attributes associated with the tool.\n",
        "print(multiply.name)\n",
        "print(multiply.description)\n",
        "print(multiply.args)\n",
        "print(multiply.return_direct)\n",
        "print(multiply.invoke({\"a\":4, \"b\":5}))"
      ],
      "metadata": {
        "colab": {
          "base_uri": "https://localhost:8080/"
        },
        "id": "Ew91kup9O2AL",
        "outputId": "3b3a4d50-666b-4bd6-e559-76566e6e0331"
      },
      "execution_count": null,
      "outputs": [
        {
          "output_type": "stream",
          "name": "stdout",
          "text": [
            "multiplication-tool\n",
            "Multiply two numbers together.\n",
            "{'a': {'description': 'First number', 'title': 'A', 'type': 'integer'}, 'b': {'description': 'Second number', 'title': 'B', 'type': 'integer'}}\n",
            "True\n",
            "20\n"
          ]
        }
      ]
    },
    {
      "cell_type": "code",
      "source": [
        "# Response Format of Our Tools\n",
        "## We can return just the content, or the content + an artifact\n",
        "## An artifact is an object or variable that we want to have available but don't want to pass directly to the model.\n",
        "### For example, if the tool calls the yfinance API and gets all the information for a company, we might only want to return the share price, but we want to have all the information available for other nodes to use.\n",
        "\n",
        "import random\n",
        "from typing import List, Tuple\n",
        "\n",
        "from langchain_core.tools import tool\n",
        "\n",
        "# If we want our tool to distinguish between the content of the message and other artifacts, we need to specify response_format=\"content_and_artifact\" when defining our tool and make sure to return a tuple in the format (content, artifact)\n",
        "\n",
        "@tool(response_format=\"content_and_artifact\")\n",
        "def generate_random_ints(min: int, max: int, size: int) -> Tuple[str, List[int]]:\n",
        "    \"\"\"Generate a list of a random size with integers between [min, max].\"\"\"\n",
        "    array = [random.randint(min, max) for _ in range(size)]\n",
        "    content = f\"A list of size {size} was generated with integers between [{min}, {max}].\"\n",
        "    return content, array\n",
        "\n",
        "# A normal invocation returns the content\n",
        "print(generate_random_ints.invoke({\"min\": 0, \"max\": 9, \"size\": 10}))\n",
        "\n",
        "# But if we invoke in the \"tool_call\" format, which is how a model with tool functionality will generate its response, then we get a ToolMessage object with the content + artifact\n",
        "generate_random_ints.invoke(\n",
        "    {\n",
        "        \"name\": \"generate_random_ints\",\n",
        "        \"args\": {\"min\": 0, \"max\": 9, \"size\": 10},\n",
        "        \"id\": \"123\",  # required\n",
        "        \"type\": \"tool_call\",  # required\n",
        "    }\n",
        ")"
      ],
      "metadata": {
        "colab": {
          "base_uri": "https://localhost:8080/"
        },
        "id": "ZZHVeGdGO2ID",
        "outputId": "7d9865e1-aacb-4be4-b4e3-55fbd44f3870"
      },
      "execution_count": null,
      "outputs": [
        {
          "output_type": "stream",
          "name": "stdout",
          "text": [
            "A list of size 10 was generated with integers between [0, 9].\n"
          ]
        },
        {
          "output_type": "execute_result",
          "data": {
            "text/plain": [
              "ToolMessage(content='A list of size 10 was generated with integers between [0, 9].', name='generate_random_ints', tool_call_id='123', artifact=[2, 0, 9, 4, 0, 0, 3, 2, 3, 7])"
            ]
          },
          "metadata": {},
          "execution_count": 6
        }
      ]
    },
    {
      "cell_type": "code",
      "source": [
        "# When using LLM models, the challenge will be to instruct the model to generate a response in the following JSON format to successfully execute a tool.\n",
        "# A \"tool-calling LLM\" is a model that has been trained (fine-tuned) for this purpose.\n",
        "llama3_3 = ChatGroq(model_name=\"llama-3.3-70b-versatile\",\n",
        "                    temperature=0,\n",
        "                    max_tokens=350)\n",
        "\n",
        "# Langchain abstracts the instruction on how to format a call to the chosen tool (tool call) with the bind_tools() method and @tool decorator\n",
        "# but all of this can be customized for your particular use case and constraints\n",
        "tools = [generate_random_ints]\n",
        "llama3_3_with_tools = llama3_3.bind_tools(tools)\n",
        "respuesta = llama3_3_with_tools.invoke(\"Generate a list of 7 numbers between 14 and 25\")\n",
        "respuesta"
      ],
      "metadata": {
        "colab": {
          "base_uri": "https://localhost:8080/"
        },
        "id": "V1ecJ3l2SoD_",
        "outputId": "c03f0d53-a2c2-43c5-d0df-53cfd529db3a"
      },
      "execution_count": null,
      "outputs": [
        {
          "output_type": "execute_result",
          "data": {
            "text/plain": [
              "AIMessage(content='', additional_kwargs={'tool_calls': [{'id': 'call_a25d', 'function': {'arguments': '{\"min\": 14, \"max\": 25, \"size\": 7}', 'name': 'generate_random_ints'}, 'type': 'function'}]}, response_metadata={'token_usage': {'completion_tokens': 28, 'prompt_tokens': 263, 'total_tokens': 291, 'completion_time': 0.101818182, 'prompt_time': 0.032229426, 'queue_time': 0.197571465, 'total_time': 0.134047608}, 'model_name': 'llama-3.3-70b-versatile', 'system_fingerprint': 'fp_4e32347616', 'finish_reason': 'tool_calls', 'logprobs': None}, id='run-d8e7d05a-1888-4c0a-bbf5-9c295614b52b-0', tool_calls=[{'name': 'generate_random_ints', 'args': {'min': 14, 'max': 25, 'size': 7}, 'id': 'call_a25d', 'type': 'tool_call'}], usage_metadata={'input_tokens': 263, 'output_tokens': 28, 'total_tokens': 291})"
            ]
          },
          "metadata": {},
          "execution_count": 7
        }
      ]
    },
    {
      "cell_type": "code",
      "source": [
        "# Llama 3.3 was able to identify that it needed to call our tool.\n",
        "# Note that it has all the information we need\n",
        "respuesta.tool_calls"
      ],
      "metadata": {
        "colab": {
          "base_uri": "https://localhost:8080/"
        },
        "id": "28kq4kcXTmq1",
        "outputId": "464579da-a026-4146-e20c-9f0459d32385"
      },
      "execution_count": null,
      "outputs": [
        {
          "output_type": "execute_result",
          "data": {
            "text/plain": [
              "[{'name': 'generate_random_ints',\n",
              "  'args': {'min': 14, 'max': 25, 'size': 7},\n",
              "  'id': 'call_a25d',\n",
              "  'type': 'tool_call'}]"
            ]
          },
          "metadata": {},
          "execution_count": 8
        }
      ]
    },
    {
      "cell_type": "code",
      "source": [
        "# we can ejecute/invoke the tool passing in the tool_call message\n",
        "generate_random_ints.invoke(respuesta.tool_calls[0])"
      ],
      "metadata": {
        "colab": {
          "base_uri": "https://localhost:8080/"
        },
        "id": "0srmHiO8TvmY",
        "outputId": "cccefc26-803a-486c-9544-04b950325691"
      },
      "execution_count": null,
      "outputs": [
        {
          "output_type": "execute_result",
          "data": {
            "text/plain": [
              "ToolMessage(content='A list of size 7 was generated with integers between [14, 25].', name='generate_random_ints', tool_call_id='call_a25d', artifact=[15, 21, 14, 16, 17, 17, 18])"
            ]
          },
          "metadata": {},
          "execution_count": 9
        }
      ]
    },
    {
      "cell_type": "markdown",
      "source": [
        "Note that it returns a `ToolMessage` object. These work in the same way as the LangChain messages we've already used, with the difference that they contain the following specific attributes:\n",
        "\n",
        "* **name**: The name of the tool. This corresponds to the Python function name unless explicitly declared.\n",
        "* **tool_call_id**: A unique identifier for the message that the tool is responding to. In this case, \"call_zfyn\" is the identifier of the message generated by our model.\n",
        "* **artifact**: A tool output that should not be sent to the model directly. In this case, it's the entire list that the model generated when calling our tool.\n",
        "\n",
        "When building a workflow with tools, we need particular logic to extract the required information at each node. As we've seen, when calling the model with tools, we get a list with `AIMessage` and `ToolMessage`. If the model decided to use a tool, the `tool_calls()` attribute will be populated with a list containing the JSONs for each selected tool. In this simple example, we only enabled one, but there can be several available to the model.\n",
        "\n",
        "The main message is that manipulating chatbots plus tools requires additional logic to check if the model wants to call a tool, and pass the arguments to the selected tool or generate the final response if there's no need to use a tool. LangGraph provides two useful abstractions for creating nodes (`ToolNode`) and necessary logic (`tools_conditions`).\n"
      ],
      "metadata": {
        "id": "1YAY-M9uQQh_"
      }
    },
    {
      "cell_type": "markdown",
      "source": [
        "Let's apply a particular methodology to structure the development of our autonomous workflows. The following general recipe will serve as a guide during the course and your work.\n",
        "\n",
        "1. Tools\n",
        "2. States\n",
        "3. Nodes\n",
        "4. Graph\n"
      ],
      "metadata": {
        "id": "AXOengP0_xGp"
      }
    },
    {
      "cell_type": "code",
      "source": [
        "from langgraph.prebuilt import ToolNode, tools_condition\n",
        "from langchain_core.messages import SystemMessage, HumanMessage\n",
        "\n",
        "## --- Tools --- ##\n",
        "@tool\n",
        "def suma(a: int, b: int) -> int:\n",
        "    \"\"\"Sum two numbers.\"\"\"\n",
        "    return a + b\n",
        "\n",
        "@tool\n",
        "def duplicar(sum: int) -> int:\n",
        "    \"\"\"Double a sum.\"\"\"\n",
        "    return sum * 2\n",
        "\n",
        "tools = [suma, duplicar]\n",
        "llm_with_tools = llama3_3.bind_tools(tools, parallel_tool_calls=False)\n",
        "## --------------------- ##\n",
        "\n",
        "## --- State --- ##\n",
        "# let's use the predefined MessagesState for this example\n",
        "from langgraph.graph import MessagesState\n",
        "\n",
        "## -------------- ##\n",
        "\n",
        "## --- Nodes --- ##\n",
        "def chatbot(state: MessagesState) -> MessagesState:\n",
        "    'Chat model that determines if a tool should be called or not to answer the query'\n",
        "    # assume the first message is the user's query\n",
        "    prompt = state['messages']\n",
        "\n",
        "    # (optional) We can specify a system prompt to condition the model's response style\n",
        "    sys_prompt = SystemMessage(content=\"You are a math assistant that makes arithmetic calculations given two numbers\")\n",
        "    prompt = [sys_prompt] + prompt\n",
        "    return {'messages': [llm_with_tools.invoke(prompt)]}\n",
        "\n",
        "tool_node = ToolNode(tools)\n",
        "## ------------- ##\n",
        "\n",
        "## --- Graph --- ##\n",
        "graph = StateGraph(MessagesState)\n",
        "\n",
        "graph.add_node(\"chatbot\", chatbot)\n",
        "graph.add_node(\"tools\", tool_node)\n",
        "\n",
        "graph.add_edge(START, \"chatbot\")\n",
        "graph.add_edge(\"tools\", \"chatbot\")\n",
        "graph.add_conditional_edges(\"chatbot\",\n",
        "                            # If the latest message (result) from assistant is a tool call -> tools_condition routes to tools\n",
        "                            # If the latest message (result) from assistant is a not a tool call -> tools_condition routes to END\n",
        "                            tools_condition\n",
        "                            )\n",
        "## ------------- ##\n",
        "\n",
        "workflow = graph.compile()\n",
        "visualize_workflow(workflow)"
      ],
      "metadata": {
        "colab": {
          "base_uri": "https://localhost:8080/",
          "height": 266
        },
        "id": "CBWl1j68R8HF",
        "outputId": "e79bf520-d649-4c7c-a57e-f0e7695375e7"
      },
      "execution_count": null,
      "outputs": [
        {
          "output_type": "display_data",
          "data": {
            "image/png": "[encoded data removed]",
            "text/plain": [
              "<IPython.core.display.Image object>"
            ]
          },
          "metadata": {}
        }
      ]
    },
    {
      "cell_type": "code",
      "source": [
        "messages = [HumanMessage(content=\"what is double the sum between 5 and 3?\")]\n",
        "messages = workflow.invoke({\"messages\": messages})\n",
        "for m in messages['messages']:\n",
        "    m.pretty_print()"
      ],
      "metadata": {
        "colab": {
          "base_uri": "https://localhost:8080/"
        },
        "id": "-4Ywgm7UZ4e2",
        "outputId": "1cb3caff-11a6-4c8a-9730-09dbe012e8d9"
      },
      "execution_count": null,
      "outputs": [
        {
          "output_type": "stream",
          "name": "stdout",
          "text": [
            "================================\u001b[1m Human Message \u001b[0m=================================\n",
            "\n",
            "what is double the sum between 5 and 3?\n",
            "==================================\u001b[1m Ai Message \u001b[0m==================================\n",
            "Tool Calls:\n",
            "  suma (call_f2q1)\n",
            " Call ID: call_f2q1\n",
            "  Args:\n",
            "    a: 5\n",
            "    b: 3\n",
            "=================================\u001b[1m Tool Message \u001b[0m=================================\n",
            "Name: suma\n",
            "\n",
            "8\n",
            "==================================\u001b[1m Ai Message \u001b[0m==================================\n",
            "Tool Calls:\n",
            "  duplicar (call_3mt5)\n",
            " Call ID: call_3mt5\n",
            "  Args:\n",
            "    sum: 8\n",
            "=================================\u001b[1m Tool Message \u001b[0m=================================\n",
            "Name: duplicar\n",
            "\n",
            "16\n",
            "==================================\u001b[1m Ai Message \u001b[0m==================================\n",
            "\n",
            "The sum between 5 and 3 is 8, and double that sum is 16.\n"
          ]
        }
      ]
    },
    {
      "cell_type": "markdown",
      "source": [
        "Well done! You have created your own autonomous flow (Agentic workflow). This particular design, where the chatbot iterates with a tools node, is called Reason-and-Act (ReAct).\n",
        "\n",
        "Inspired by the [Chain-of-Thought (CoT)](https://arxiv.org/abs/2201.11903) prompting technique, ReAct was [first proposed in 2023](https://arxiv.org/pdf/2210.03629) as an ingenious prompting technique to improve the ability of LLM-powered chatbots to respond to complex queries. In simple terms, \"reasoning\" means a series of thoughts and \"action\" means making a reasonable decision. Combined, the idea is that a thought can always be followed by some actionable decision which, when executed, produces an observation. This results in a Thought-Action-Observation chain that \"creates, maintains, and dynamically adjusts high-level plans for acting while interacting with the external environment\".\n",
        "\n",
        "This technique became the first Agentic (or autonomous) workflow design. We think of \"interacting with the external environment\" as the availability of Tools, and the dynamic feature is achieved through a self-referential loop between an LLM and its Tools. Today, you'll learn how to implement such a ReAct Agentic design using a popular development framework called LangGraph.\n",
        "\n",
        "To conclude this section, let's develop a more useful ReAct Agent that makes use of the [Yahoo Finance API](https://pypi.org/project/yfinance/) to obtain financial data for a public company or mutual fund.\n",
        "\n",
        "\n",
        "> If you are interested, I wrote a [Medium blog post](https://medium.com/@agbonorino/finance-react-agent-with-langgraph-6a6553039900) with some background information on the state of Agents in the market and narrative context around this application with yahoo finance.\n",
        "\n"
      ],
      "metadata": {
        "id": "ELdMTdDtbBmh"
      }
    },
    {
      "cell_type": "code",
      "source": [
        "%pip install yfinance --quiet"
      ],
      "metadata": {
        "id": "Mt2Zfab5a62t"
      },
      "execution_count": null,
      "outputs": []
    },
    {
      "cell_type": "code",
      "source": [
        "# let's use the API to fetch the top holdings of a mutual fund and generate a report given the business summary of the top 2 holdings\n",
        "# first, get a proof of concept working before writing any tools.\n",
        "import yfinance as yf\n",
        "\n",
        "ETF_data = yf.Ticker(\"URA\").funds_data\n",
        "ETF_description = ETF_data.description\n",
        "ETF_top_holdings = ETF_data.top_holdings\n",
        "ETF_sector_weights = ETF_data.sector_weightings\n",
        "\n",
        "print(f\"ETF description: {ETF_description}\\n\")\n",
        "print(f\"ETF top holdings: {ETF_top_holdings}\\n\")\n",
        "print(f\"ETF sector weights:\\n\")\n",
        "pp.pprint(ETF_sector_weights)"
      ],
      "metadata": {
        "colab": {
          "base_uri": "https://localhost:8080/"
        },
        "id": "j4rKGeskdrMx",
        "outputId": "91dda02c-9814-4a55-a631-e28106c9c564"
      },
      "execution_count": null,
      "outputs": [
        {
          "output_type": "stream",
          "name": "stdout",
          "text": [
            "ETF description: The fund invests at least 80% of its total assets in the securities of the underlying index and in American Depositary Receipts (\"ADRs\") and Global Depositary Receipts (\"GDRs\") based on the securities in the underlying index. The underlying index is designed to measure broad based equity market performance of global companies involved in the uranium industry. The fund is non-diversified.\n",
            "\n",
            "ETF top holdings:                                           Name  Holding Percent\n",
            "Symbol                                                         \n",
            "CCO.TO                             Cameco Corp         0.254815\n",
            "NXE.TO                       NexGen Energy Ltd         0.065868\n",
            "UEC                        Uranium Energy Corp         0.054433\n",
            "KAP     National Atomic Co Kazatomprom JSC ADR         0.050226\n",
            "PDN.AX                      Paladin Energy Ltd         0.033586\n",
            "DML.TO                      Denison Mines Corp         0.032565\n",
            "OKLO                   Oklo Inc Class A Shares         0.029864\n",
            "SMR                 NuScale Power Corp Class A         0.028298\n",
            "YCA.L          Yellow Cake PLC Ordinary Shares         0.026782\n",
            "\n",
            "ETF sector weights:\n",
            "\n",
            "{'basic_materials': 0.0442,\n",
            " 'communication_services': 0.0,\n",
            " 'consumer_cyclical': 0.0,\n",
            " 'consumer_defensive': 0.0,\n",
            " 'energy': 0.7343,\n",
            " 'financial_services': 0.0,\n",
            " 'healthcare': 0.0,\n",
            " 'industrials': 0.17969999,\n",
            " 'realestate': 0.0,\n",
            " 'technology': 0.0114,\n",
            " 'utilities': 0.0304}\n"
          ]
        }
      ]
    },
    {
      "cell_type": "code",
      "source": [
        "tickers_data = yf.Tickers(\"CCO.TO NXE.TO\")\n",
        "tickers_data.tickers[\"CCO.TO\"].info['longBusinessSummary']"
      ],
      "metadata": {
        "colab": {
          "base_uri": "https://localhost:8080/",
          "height": 127
        },
        "id": "2qDBgyo1r469",
        "outputId": "ddf74d8f-ae9b-4b57-ef42-efaa7de1930e"
      },
      "execution_count": null,
      "outputs": [
        {
          "output_type": "execute_result",
          "data": {
            "text/plain": [
              "'Cameco Corporation provides uranium for the generation of electricity. It operates through Uranium, Fuel Services, Westinghouse segments. The Uranium segment is involved in the exploration for, mining, and milling, purchase, and sale of uranium concentrate. The Fuel Services segment engages in the refining, conversion, and fabrication of uranium concentrate, as well as the purchase and sale of conversion services. This segment also produces CANDU reactor fuel bundles and other reactor components. The company offers nuclear fuel processing services. The Westinghouse segment engages in the manufacture of nuclear reactor technology original equipment. This segment provides products and services to commercial utilities and government agencies; and outage and maintenance services, engineering support, instrumentation and controls equipment, plant modification, and components and parts to nuclear reactors. It sells its uranium and fuel services to nuclear utilities in the Americas, Europe, and Asia. Cameco Corporation was incorporated in 1987 and is headquartered in Saskatoon, Canada.'"
            ],
            "application/vnd.google.colaboratory.intrinsic+json": {
              "type": "string"
            }
          },
          "metadata": {},
          "execution_count": 14
        }
      ]
    },
    {
      "cell_type": "code",
      "source": [
        "descriptions = []\n",
        "for ticker in tickers_data.tickers:\n",
        "    descriptions.append(f\"{ticker} Business Summary:\\n\\n{tickers_data.tickers[ticker].info['longBusinessSummary']}\\n\\n\")\n",
        "\n",
        "response = \"\".join(descriptions)\n",
        "print(response)"
      ],
      "metadata": {
        "colab": {
          "base_uri": "https://localhost:8080/"
        },
        "id": "5npMWvjEurPh",
        "outputId": "81731f66-9388-4995-e4d1-28c99a1c7d6c"
      },
      "execution_count": null,
      "outputs": [
        {
          "output_type": "stream",
          "name": "stdout",
          "text": [
            "CCO.TO Business Summary:\n",
            "\n",
            "Cameco Corporation provides uranium for the generation of electricity. It operates through Uranium, Fuel Services, Westinghouse segments. The Uranium segment is involved in the exploration for, mining, and milling, purchase, and sale of uranium concentrate. The Fuel Services segment engages in the refining, conversion, and fabrication of uranium concentrate, as well as the purchase and sale of conversion services. This segment also produces CANDU reactor fuel bundles and other reactor components. The company offers nuclear fuel processing services. The Westinghouse segment engages in the manufacture of nuclear reactor technology original equipment. This segment provides products and services to commercial utilities and government agencies; and outage and maintenance services, engineering support, instrumentation and controls equipment, plant modification, and components and parts to nuclear reactors. It sells its uranium and fuel services to nuclear utilities in the Americas, Europe, and Asia. Cameco Corporation was incorporated in 1987 and is headquartered in Saskatoon, Canada.\n",
            "\n",
            "NXE.TO Business Summary:\n",
            "\n",
            "NexGen Energy Ltd., an exploration and development stage company, engages in the acquisition, exploration, and evaluation and development of uranium properties in Canada. It holds a 100% interest in the Rook I project that consists of 32 contiguous mineral claims totaling an area of 35,065 hectares located in the southwestern Athabasca Basin of Saskatchewan. The company is headquartered in Vancouver, Canada.\n",
            "\n",
            "\n"
          ]
        }
      ]
    },
    {
      "cell_type": "code",
      "source": [
        "import yfinance as yf\n",
        "from datetime import date, timedelta\n",
        "import pandas as pd\n",
        "\n",
        "## --- Tools --- ##\n",
        "@tool(response_format='content_and_artifact')\n",
        "def fund_top_holdings(ticker: str) -> Tuple[str, dict]:\n",
        "    '''\n",
        "    Function for fetching the top 2 holdings of a mutual fund listed in yahoo finance,\n",
        "    The input ticker must be a valid ticker symbol for a mutual fund.\n",
        "    '''\n",
        "    try:\n",
        "        ETF_data = yf.Ticker(ticker).funds_data\n",
        "        ETF_top_holdings = ETF_data.top_holdings\n",
        "        top_2_holdings = f\"{ETF_top_holdings.iloc[:2, 0].to_dict()}\"\n",
        "    except:\n",
        "        raise ValueError(f\"Ticker {ticker} not found\")\n",
        "\n",
        "    return top_2_holdings, ETF_top_holdings.to_dict()\n",
        "\n",
        "@tool(response_format='content')\n",
        "def top_holdings_report(tickers: str) -> str:\n",
        "    '''\n",
        "    Function to use get the description of the top 2 holdings of a mutual fund listed in yahoo finance.\n",
        "    The input tickers must be a single string with the ticker symbols separated by a whitespace. For example, \"MSFT AAPL\".\n",
        "    '''\n",
        "    try:\n",
        "        tickers_data = yf.Tickers(tickers)\n",
        "\n",
        "        descriptions = []\n",
        "        for ticker in tickers_data.tickers:\n",
        "            descriptions.append(f\"{ticker} Business Summary:\\n\\n{tickers_data.tickers[ticker].info['longBusinessSummary']}\\n\\n\")\n",
        "\n",
        "        response = \"\".join(descriptions)\n",
        "\n",
        "    except:\n",
        "        raise ValueError(f\"Ticker {tickers} not found\")\n",
        "\n",
        "    return response\n",
        "\n",
        "tools = [fund_top_holdings, top_holdings_report]\n",
        "llm_with_tools = llama3_3.bind_tools(tools, parallel_tool_calls=False)\n",
        "## --------------------- ##\n",
        "\n",
        "## --- State --- ##\n",
        "from langgraph.graph import MessagesState\n",
        "\n",
        "## -------------- ##\n",
        "\n",
        "## --- Nodes --- ##\n",
        "def chatbot(state: MessagesState) -> MessagesState:\n",
        "    'Function to call the model that will determine if any tool calls are necessary and generate a response'\n",
        "\n",
        "    prompt = state['messages']\n",
        "    sys_prompt = SystemMessage(content=\"You are an experience financial analyst and mutual fund expert\")\n",
        "    prompt = [sys_prompt] + prompt\n",
        "\n",
        "    return {'messages': [llm_with_tools.invoke(prompt)]}\n",
        "\n",
        "tool_node = ToolNode(tools)\n",
        "## ------------- ##\n",
        "\n",
        "## --- Graph --- ##\n",
        "graph = StateGraph(MessagesState)\n",
        "\n",
        "graph.add_node(\"chatbot\", chatbot)\n",
        "graph.add_node(\"tools\", tool_node)\n",
        "\n",
        "graph.add_edge(START, \"chatbot\")\n",
        "graph.add_edge(\"tools\", \"chatbot\")\n",
        "graph.add_conditional_edges(\"chatbot\",\n",
        "                            # If the latest message (result) from assistant is a tool call -> tools_condition routes to tools\n",
        "                            # If the latest message (result) from assistant is a not a tool call -> tools_condition routes to END\n",
        "                            tools_condition\n",
        "                            )\n",
        "## ------------- ##\n",
        "\n",
        "workflow = graph.compile()\n",
        "visualize_workflow(workflow)"
      ],
      "metadata": {
        "colab": {
          "base_uri": "https://localhost:8080/",
          "height": 266
        },
        "id": "4TFVBTnVcijm",
        "outputId": "05e6f354-77a0-4b6a-b9f2-28e2703e7f67"
      },
      "execution_count": null,
      "outputs": [
        {
          "output_type": "display_data",
          "data": {
            "image/png": "[encoded data removed]",
            "text/plain": [
              "<IPython.core.display.Image object>"
            ]
          },
          "metadata": {}
        }
      ]
    },
    {
      "cell_type": "code",
      "source": [
        "query = {\"messages\": (\"human\", \"What is the focus of the top 2 holdings of URA? What is the consensus outlook for their industry overall? Provide a detailed analysis\")}\n",
        "messages = workflow.invoke(query)\n",
        "for m in messages['messages']:\n",
        "    m.pretty_print()"
      ],
      "metadata": {
        "colab": {
          "base_uri": "https://localhost:8080/"
        },
        "id": "fVkbxEF-vNKa",
        "outputId": "de42fec2-d4dc-41d3-fe1c-cf509151c000"
      },
      "execution_count": null,
      "outputs": [
        {
          "output_type": "stream",
          "name": "stdout",
          "text": [
            "================================\u001b[1m Human Message \u001b[0m=================================\n",
            "\n",
            "What is the focus of the top 2 holdings of URA? What is the consensus outlook for their industry overall? Provide a detailed analysis\n",
            "==================================\u001b[1m Ai Message \u001b[0m==================================\n",
            "Tool Calls:\n",
            "  fund_top_holdings (call_wpmk)\n",
            " Call ID: call_wpmk\n",
            "  Args:\n",
            "    ticker: URA\n",
            "=================================\u001b[1m Tool Message \u001b[0m=================================\n",
            "Name: fund_top_holdings\n",
            "\n",
            "{'CCO.TO': 'Cameco Corp', 'NXE.TO': 'NexGen Energy Ltd'}\n",
            "==================================\u001b[1m Ai Message \u001b[0m==================================\n",
            "\n",
            "The top 2 holdings of the URA mutual fund are Cameco Corp (CCO.TO) and NexGen Energy Ltd (NXE.TO), both of which are companies in the uranium mining industry. \n",
            "\n",
            "The consensus outlook for the uranium mining industry is positive, driven by increasing demand for nuclear energy and declining uranium production. Many analysts believe that the industry is poised for growth, with some predicting a significant increase in uranium prices over the next few years.\n",
            "\n",
            "Cameco Corp, one of the top holdings of URA, is a leading uranium producer with a strong track record of operational excellence and a diversified portfolio of assets. The company has a significant presence in the Athabasca Basin, one of the world's premier uranium-producing regions, and is well-positioned to benefit from the expected increase in demand for uranium.\n",
            "\n",
            "NexGen Energy Ltd, the other top holding of URA, is a junior uranium mining company with a focus on the development of its Arrow deposit in the Athabasca Basin. The company has made significant progress in advancing its project and has received positive feedback from the market.\n",
            "\n",
            "Overall, the top 2 holdings of URA are well-positioned to benefit from the expected growth in the uranium mining industry, driven by increasing demand for nuclear energy and declining uranium production. However, as with any investment, there are risks involved, and investors should carefully consider their own financial goals and risk tolerance before investing in URA or any other mutual fund.\n"
          ]
        }
      ]
    },
    {
      "cell_type": "code",
      "source": [
        "from textwrap import TextWrapper\n",
        "wrapper = TextWrapper(width=140)\n",
        "\n",
        "print(wrapper.fill(messages['messages'][-1].content))"
      ],
      "metadata": {
        "colab": {
          "base_uri": "https://localhost:8080/"
        },
        "id": "5-DLrcyxvZIv",
        "outputId": "86a8d5a8-2b4e-43e1-9a92-d4c61739f386"
      },
      "execution_count": null,
      "outputs": [
        {
          "output_type": "stream",
          "name": "stdout",
          "text": [
            "The top 2 holdings of the URA mutual fund are Cameco Corp (CCO.TO) and NexGen Energy Ltd (NXE.TO), both of which are companies in the\n",
            "uranium mining industry.   The consensus outlook for the uranium mining industry is positive, driven by increasing demand for nuclear energy\n",
            "and declining uranium production. Many analysts believe that the industry is poised for growth, with some predicting a significant increase\n",
            "in uranium prices over the next few years.  Cameco Corp, one of the top holdings of URA, is a leading uranium producer with a strong track\n",
            "record of operational excellence and a diversified portfolio of assets. The company has a significant presence in the Athabasca Basin, one\n",
            "of the world's premier uranium-producing regions, and is well-positioned to benefit from the expected increase in demand for uranium.\n",
            "NexGen Energy Ltd, the other top holding of URA, is a junior uranium mining company with a focus on the development of its Arrow deposit in\n",
            "the Athabasca Basin. The company has made significant progress in advancing its project and has received positive feedback from the market.\n",
            "Overall, the top 2 holdings of URA are well-positioned to benefit from the expected growth in the uranium mining industry, driven by\n",
            "increasing demand for nuclear energy and declining uranium production. However, as with any investment, there are risks involved, and\n",
            "investors should carefully consider their own financial goals and risk tolerance before investing in URA or any other mutual fund.\n"
          ]
        }
      ]
    },
    {
      "cell_type": "code",
      "source": [
        "# test 2\n",
        "query = {\"messages\": (\"human\", \"What is the consensus outlook for the top holdings of VTI?\")}\n",
        "messages = workflow.invoke(query)\n",
        "for m in messages['messages']:\n",
        "    m.pretty_print()"
      ],
      "metadata": {
        "colab": {
          "base_uri": "https://localhost:8080/"
        },
        "id": "tm4qk13qw1xh",
        "outputId": "10817091-5de9-4586-a0a9-31932506c869"
      },
      "execution_count": null,
      "outputs": [
        {
          "output_type": "stream",
          "name": "stdout",
          "text": [
            "================================\u001b[1m Human Message \u001b[0m=================================\n",
            "\n",
            "What is the consensus outlook for the top holdings of VTI?\n",
            "==================================\u001b[1m Ai Message \u001b[0m==================================\n",
            "Tool Calls:\n",
            "  fund_top_holdings (call_45cm)\n",
            " Call ID: call_45cm\n",
            "  Args:\n",
            "    ticker: VTI\n",
            "=================================\u001b[1m Tool Message \u001b[0m=================================\n",
            "Name: fund_top_holdings\n",
            "\n",
            "{'AAPL': 'Apple Inc', 'MSFT': 'Microsoft Corp'}\n",
            "==================================\u001b[1m Ai Message \u001b[0m==================================\n",
            "Tool Calls:\n",
            "  top_holdings_report (call_ct12)\n",
            " Call ID: call_ct12\n",
            "  Args:\n",
            "    tickers: AAPL MSFT\n",
            "=================================\u001b[1m Tool Message \u001b[0m=================================\n",
            "Name: top_holdings_report\n",
            "\n",
            "AAPL Business Summary:\n",
            "\n",
            "Apple Inc. designs, manufactures, and markets smartphones, personal computers, tablets, wearables, and accessories worldwide. The company offers iPhone, a line of smartphones; Mac, a line of personal computers; iPad, a line of multi-purpose tablets; and wearables, home, and accessories comprising AirPods, Apple TV, Apple Watch, Beats products, and HomePod. It also provides AppleCare support and cloud services; and operates various platforms, including the App Store that allow customers to discover and download applications and digital content, such as books, music, video, games, and podcasts, as well as advertising services include third-party licensing arrangements and its own advertising platforms. In addition, the company offers various subscription-based services, such as Apple Arcade, a game subscription service; Apple Fitness+, a personalized fitness service; Apple Music, which offers users a curated listening experience with on-demand radio stations; Apple News+, a subscription news and magazine service; Apple TV+, which offers exclusive original content; Apple Card, a co-branded credit card; and Apple Pay, a cashless payment service, as well as licenses its intellectual property. The company serves consumers, and small and mid-sized businesses; and the education, enterprise, and government markets. It distributes third-party applications for its products through the App Store. The company also sells its products through its retail and online stores, and direct sales force; and third-party cellular network carriers, wholesalers, retailers, and resellers. Apple Inc. was founded in 1976 and is headquartered in Cupertino, California.\n",
            "\n",
            "MSFT Business Summary:\n",
            "\n",
            "Microsoft Corporation develops and supports software, services, devices and solutions worldwide. The Productivity and Business Processes segment offers office, exchange, SharePoint, Microsoft Teams, office 365 Security and Compliance, Microsoft viva, and Microsoft 365 copilot; and office consumer services, such as Microsoft 365 consumer subscriptions, Office licensed on-premises, and other office services. This segment also provides LinkedIn; and dynamics business solutions, including Dynamics 365, a set of intelligent, cloud-based applications across ERP, CRM, power apps, and power automate; and on-premises ERP and CRM applications. The Intelligent Cloud segment offers server products and cloud services, such as azure and other cloud services; SQL and windows server, visual studio, system center, and related client access licenses, as well as nuance and GitHub; and enterprise services including enterprise support services, industry solutions, and nuance professional services. The More Personal Computing segment offers Windows, including windows OEM licensing and other non-volume licensing of the Windows operating system; Windows commercial comprising volume licensing of the Windows operating system, windows cloud services, and other Windows commercial offerings; patent licensing; and windows Internet of Things; and devices, such as surface, HoloLens, and PC accessories. Additionally, this segment provides gaming, which includes Xbox hardware and content, and first- and third-party content; Xbox game pass and other subscriptions, cloud gaming, advertising, third-party disc royalties, and other cloud services; and search and news advertising, which includes Bing, Microsoft News and Edge, and third-party affiliates. The company sells its products through OEMs, distributors, and resellers; and directly through digital marketplaces, online, and retail stores. The company was founded in 1975 and is headquartered in Redmond, Washington.\n",
            "\n",
            "\n",
            "==================================\u001b[1m Ai Message \u001b[0m==================================\n",
            "\n",
            "The consensus outlook for the top holdings of VTI, which are Apple Inc. (AAPL) and Microsoft Corp (MSFT), is positive. Both companies have a strong track record of innovation and have been able to maintain their market leadership positions in their respective industries. Apple's ecosystem of products and services, including the iPhone, Mac, and Apple Watch, continues to drive growth and loyalty among customers. Microsoft's cloud-based offerings, including Azure and Office 365, have been gaining traction and are expected to continue to drive growth for the company. Overall, the outlook for these two companies is positive, and they are expected to continue to be leaders in their respective industries.\n"
          ]
        }
      ]
    },
    {
      "cell_type": "code",
      "source": [
        "print(wrapper.fill(messages['messages'][-1].content))"
      ],
      "metadata": {
        "colab": {
          "base_uri": "https://localhost:8080/"
        },
        "id": "ynasOm3Py1MG",
        "outputId": "3f770667-2a68-4100-ce00-3f6a3ec814c5"
      },
      "execution_count": null,
      "outputs": [
        {
          "output_type": "stream",
          "name": "stdout",
          "text": [
            "The consensus outlook for the top holdings of VTI, which are Apple Inc. (AAPL) and Microsoft Corp (MSFT), is positive. Both companies have a\n",
            "strong track record of innovation and have been able to maintain their market leadership positions in their respective industries. Apple's\n",
            "ecosystem of products and services, including the iPhone, Mac, and Apple Watch, continues to drive growth and loyalty among customers.\n",
            "Microsoft's cloud-based offerings, including Azure and Office 365, have been gaining traction and are expected to continue to drive growth\n",
            "for the company. Overall, the outlook for these two companies is positive, and they are expected to continue to be leaders in their\n",
            "respective industries.\n"
          ]
        }
      ]
    },
    {
      "cell_type": "code",
      "source": [
        "# double check\n",
        "ETF_data = yf.Ticker(\"VTI\").funds_data\n",
        "ETF_description = ETF_data.description\n",
        "ETF_top_holdings = ETF_data.top_holdings\n",
        "ETF_sector_weights = ETF_data.sector_weightings\n",
        "\n",
        "print(f\"ETF description: {ETF_description}\\n\")\n",
        "print(f\"ETF top holdings: {ETF_top_holdings}\\n\")\n",
        "print(f\"ETF sector weights:\\n\")\n",
        "pp.pprint(ETF_sector_weights)"
      ],
      "metadata": {
        "colab": {
          "base_uri": "https://localhost:8080/"
        },
        "id": "1k19kqSAyKpj",
        "outputId": "3a615d7a-3cc2-48e4-8f3c-217de6f3e4bc"
      },
      "execution_count": null,
      "outputs": [
        {
          "output_type": "stream",
          "name": "stdout",
          "text": [
            "ETF description: The fund employs an indexing investment approach designed to track the performance of the index, which represents approximately 100% of the investable U.S. stock market and includes large-, mid-, small-, and micro-cap stocks. It invests by sampling the index, meaning that it holds a broadly diversified collection of securities that, in the aggregate, approximates the full index in terms of key characteristics. The fund is non-diversified.\n",
            "\n",
            "ETF top holdings:                                   Name  Holding Percent\n",
            "Symbol                                                 \n",
            "AAPL                         Apple Inc         0.066656\n",
            "MSFT                    Microsoft Corp         0.055184\n",
            "NVDA                       NVIDIA Corp         0.055017\n",
            "AMZN                    Amazon.com Inc         0.036560\n",
            "META        Meta Platforms Inc Class A         0.022476\n",
            "GOOGL             Alphabet Inc Class A         0.019477\n",
            "TSLA                         Tesla Inc         0.019403\n",
            "AVGO                      Broadcom Inc         0.019068\n",
            "GOOG              Alphabet Inc Class C         0.015774\n",
            "BRK-B   Berkshire Hathaway Inc Class B         0.014139\n",
            "\n",
            "ETF sector weights:\n",
            "\n",
            "{'basic_materials': 0.0186,\n",
            " 'communication_services': 0.0874,\n",
            " 'consumer_cyclical': 0.11359999,\n",
            " 'consumer_defensive': 0.0523,\n",
            " 'energy': 0.033099998,\n",
            " 'financial_services': 0.1353,\n",
            " 'healthcare': 0.104499996,\n",
            " 'industrials': 0.0855,\n",
            " 'realestate': 0.026500002,\n",
            " 'technology': 0.3192,\n",
            " 'utilities': 0.0241}\n"
          ]
        }
      ]
    },
    {
      "cell_type": "code",
      "source": [],
      "metadata": {
        "id": "yI_SMZp5yysM"
      },
      "execution_count": null,
      "outputs": []
    }
  ]
}