{
  "nbformat": 4,
  "nbformat_minor": 0,
  "metadata": {
    "colab": {
      "provenance": [],
      "authorship_tag": "ABX9TyMRyuoZOPKyl0KGb8AcyW/P",
      "include_colab_link": true
    },
    "kernelspec": {
      "name": "python3",
      "display_name": "Python 3"
    },
    "language_info": {
      "name": "python"
    }
  },
  "cells": [
    {
      "cell_type": "markdown",
      "metadata": {
        "id": "view-in-github",
        "colab_type": "text"
      },
      "source": [
        "<a href=\"https://colab.research.google.com/github/Bonorinoa/LangGraph-Crash-Course/blob/main/Lesson_1.ipynb\" target=\"_parent\"><img src=\"https://colab.research.google.com/assets/colab-badge.svg\" alt=\"Open In Colab\"/></a>"
      ]
    },
    {
      "cell_type": "code",
      "execution_count": null,
      "metadata": {
        "id": "Sds5EnCNySfm",
        "colab": {
          "base_uri": "https://localhost:8080/"
        },
        "outputId": "673031fc-f25a-406b-bd10-5a1854ad7848"
      },
      "outputs": [
        {
          "output_type": "stream",
          "name": "stdout",
          "text": [
            "\u001b[?25l   \u001b[90m━━━━━━━━━━━━━━━━━━━━━━━━━━━━━━━━━━━━━━━━\u001b[0m \u001b[32m0.0/148.7 kB\u001b[0m \u001b[31m?\u001b[0m eta \u001b[36m-:--:--\u001b[0m\r\u001b[2K   \u001b[90m━━━━━━━━━━━━━━━━━━━━━━━━━━━━━━━━━━━━━━━━\u001b[0m \u001b[32m148.7/148.7 kB\u001b[0m \u001b[31m5.0 MB/s\u001b[0m eta \u001b[36m0:00:00\u001b[0m\n",
            "\u001b[2K   \u001b[90m━━━━━━━━━━━━━━━━━━━━━━━━━━━━━━━━━━━━━━━━\u001b[0m \u001b[32m412.7/412.7 kB\u001b[0m \u001b[31m14.7 MB/s\u001b[0m eta \u001b[36m0:00:00\u001b[0m\n",
            "\u001b[2K   \u001b[90m━━━━━━━━━━━━━━━━━━━━━━━━━━━━━━━━━━━━━━━━\u001b[0m \u001b[32m2.5/2.5 MB\u001b[0m \u001b[31m42.5 MB/s\u001b[0m eta \u001b[36m0:00:00\u001b[0m\n",
            "\u001b[2K   \u001b[90m━━━━━━━━━━━━━━━━━━━━━━━━━━━━━━━━━━━━━━━━\u001b[0m \u001b[32m109.8/109.8 kB\u001b[0m \u001b[31m5.7 MB/s\u001b[0m eta \u001b[36m0:00:00\u001b[0m\n",
            "\u001b[2K   \u001b[90m━━━━━━━━━━━━━━━━━━━━━━━━━━━━━━━━━━━━━━━━\u001b[0m \u001b[32m44.7/44.7 kB\u001b[0m \u001b[31m2.3 MB/s\u001b[0m eta \u001b[36m0:00:00\u001b[0m\n",
            "\u001b[2K   \u001b[90m━━━━━━━━━━━━━━━━━━━━━━━━━━━━━━━━━━━━━━━━\u001b[0m \u001b[32m50.9/50.9 kB\u001b[0m \u001b[31m3.1 MB/s\u001b[0m eta \u001b[36m0:00:00\u001b[0m\n",
            "\u001b[?25h"
          ]
        }
      ],
      "source": [
        "%pip install langgraph langsmith langchain_groq langchain_core langchain_community --quiet"
      ]
    },
    {
      "cell_type": "markdown",
      "source": [
        "## Introduction to LangGraph\n",
        "\n",
        "If you've ever tried to build something with an LLM, or at least have been keeping up with the field, you've probably heard of [LangChain](https://python.langchain.com/docs/introduction/). Harrison Chase first launched it in October 2022 as an open-source tool for orchestrating LLM-based applications. It was a huge success, and just months after its initial release, the team secured millions of dollars to continue developing the module.\n",
        "\n",
        "At its core, LangChain is a tool for creating [Directed Acyclic Graphs (DAG)](https://es.wikipedia.org/wiki/Grafo_ac%C3%ADclico_dirigido) where nodes are powered by LLMs and are sequentially \"chained\". The key property of a DAG is that it has no cycles or loops. Given a query, it will pass information sequentially to all nodes. Routing is allowed, but there's no way to return to a previous node once executed. It facilitates the development of structured workflows, what I call \"recipes\", like [Retrieval-Augmented Generation (RAG)](https://medium.com/@agbonorino/a-recipe-for-your-custom-rag-application-256137bc3ddc) chatbots. But it doesn't provide the autonomy and loop mechanisms that AI Agents promise to offer. LangGraph is their solution to this limitation.\n",
        "\n",
        "Inspired by the Python graph visualization package [NetworkX](https://www.bing.com/search?q=networkx&cvid=7eb500aabf7444cc92118e82ea499cc3&gs_lcrp=EgRlZGdlKgYIABBFGDkyBggAEEUYOTIGCAEQABhAMgYIAhAAGEAyBggDEAAYQDIGCAQQABhAMgYIBRAAGEAyBggGEAAYQDIGCAcQABhAMgYICBAAGEDSAQgzMDk0ajBqNKgCALACAA&FORM=ANAB01&PC=SCOOBE), this framework facilitates the development of cyclic and stateful workflows with built-in persistence features to incorporate memory. It differs from other frameworks like [CrewAI](https://www.crewai.com/), [AutoGen](https://github.com/microsoft/autogen) or [MetaGPT](https://github.com/geekan/MetaGPT) by providing low-level control over the creation of Agent workflows. That is, you can build your workflows from scratch instead of having to rely on predefined Agents. The obvious downside is a steeper learning curve. But, everything in life is a trade-off. I hope this article guides you in the right direction and saves you valuable hours of your time.\n",
        "\n",
        "### Fundamentals\n",
        "\n",
        "There are three fundamental building blocks for any LangGraph Agent workflow:\n",
        "\n",
        "- **State**: A dictionary or named data structure (e.g., Pydantic BaseModel or a typing TypedDict object) that stores data that needs to be maintained throughout the graph. It's available to all nodes and there can be multiple States to define [multiple schemas](https://langchain-ai.github.io/langgraph/concepts/low_level/#multiple-schemas).\n",
        "    - Importantly, all states typically implement a [reducer](https://langchain-ai.github.io/langgraph/concepts/low_level/#reducers) that defines how updates will be incorporated (e.g., adding to a list of messages to dynamically build a chat history or simply overwriting the current value).\n",
        "\n",
        "- **Nodes**: The Building Blocks of Work: Each node in a LangGraph represents a distinct unit of work or action within the application. Each node is a Python function or a [LangChain Runnable](https://python.langchain.com/docs/concepts/runnables/) that performs operations to update the State. It generally takes a State object and returns an update to the State. This task could involve a variety of operations, such as:\n",
        "    - Direct communication with an LLM for text generation, summarization, or other language-based tasks.\n",
        "    - Interaction with external tools and APIs to fetch data or perform real-world actions. In this case, we'll refer to the node as a \"tool\".\n",
        "    - Data manipulation through processes like formatting, filtering, or transformation.\n",
        "    - User interaction to gather information or display data.\n",
        "\n",
        "- **Edges**: Guiding Information Flow and Control: Edges serve as the connective tissue within a LangGraph, establishing paths for information flow between nodes and dictating the sequence of operations. LangGraph supports multiple types of edges:\n",
        "\n",
        "    - ***Simple Edges***: These denote a direct and unconditional flow from one node to another. The output of the first node feeds as input to the next node, creating a linear progression.\n",
        "\n",
        "    - ***Conditional Edges***: Introducing a layer of dynamism, conditional edges allow the workflow to branch based on the outcome of a specific node's operation. These enable the cyclic feature we discussed; a function will continue to be called until a condition is met.\n"
      ],
      "metadata": {
        "id": "GuZTee4OG2oy"
      }
    },
    {
      "cell_type": "code",
      "source": [
        "from langgraph.graph import Graph, StateGraph, START, END\n",
        "from langchain_groq import ChatGroq\n",
        "\n",
        "from typing import TypedDict, Annotated, Sequence\n",
        "from langchain_core.messages import BaseMessage # message abstraction\n",
        "import operator\n",
        "\n",
        "import os, getpass\n",
        "from IPython.display import Image, display\n",
        "\n",
        "# utility to visualize the workflow created\n",
        "def visualize_workflow(workflow):\n",
        "    display(Image(workflow.get_graph().draw_mermaid_png()))\n",
        "\n",
        "def _set_env(var: str):\n",
        "    if not os.environ.get(var):\n",
        "        os.environ[var] = getpass.getpass(f\"{var}: \")\n",
        "\n",
        "_set_env(\"GROQ_API_KEY\")"
      ],
      "metadata": {
        "colab": {
          "base_uri": "https://localhost:8080/"
        },
        "id": "fSLaJiV3itgJ",
        "outputId": "c502a7b9-c57d-4d4d-ef24-25c918e1f26a"
      },
      "execution_count": null,
      "outputs": [
        {
          "name": "stdout",
          "output_type": "stream",
          "text": [
            "GROQ_API_KEY: ··········\n"
          ]
        }
      ]
    },
    {
      "cell_type": "code",
      "source": [
        "# stateless graph\n",
        "def node1(msg: str) -> str:\n",
        "    'Function to upper case the string'\n",
        "    return msg.upper()\n",
        "\n",
        "def node2(msg2: str) -> str:\n",
        "    'Function to add a string to the upper cased message'\n",
        "    return msg2 + \" end of node\"\n",
        "\n",
        "graph = Graph()\n",
        "graph.add_node(\"node 1\", node1)\n",
        "graph.add_node(\"node 2\", node2)\n",
        "\n",
        "graph.add_edge(START, \"node 1\")\n",
        "graph.add_edge(\"node 1\", \"node 2\")\n",
        "graph.add_edge(\"node 2\", END)\n",
        "\n",
        "workflow = graph.compile()\n",
        "visualize_workflow(workflow)"
      ],
      "metadata": {
        "colab": {
          "base_uri": "https://localhost:8080/",
          "height": 350
        },
        "id": "e4sAw1Sqih3W",
        "outputId": "9392c020-7966-4adc-bbed-464377a0d95e"
      },
      "execution_count": null,
      "outputs": [
        {
          "output_type": "display_data",
          "data": {
            "image/png": "[encoded data removed]",
            "text/plain": [
              "<IPython.core.display.Image object>"
            ]
          },
          "metadata": {}
        }
      ]
    },
    {
      "cell_type": "code",
      "source": [
        "workflow.invoke(\"Hello World\")"
      ],
      "metadata": {
        "colab": {
          "base_uri": "https://localhost:8080/",
          "height": 36
        },
        "id": "UxlWiBaclO2X",
        "outputId": "d6d0d815-d5aa-4b52-ab17-b4992d4b95d0"
      },
      "execution_count": null,
      "outputs": [
        {
          "output_type": "execute_result",
          "data": {
            "text/plain": [
              "'HELLO WORLD end of node'"
            ],
            "application/vnd.google.colaboratory.intrinsic+json": {
              "type": "string"
            }
          },
          "metadata": {},
          "execution_count": 19
        }
      ]
    },
    {
      "cell_type": "code",
      "source": [
        "for chunk in workflow.stream(\"Hello World\"):\n",
        "    print(chunk)"
      ],
      "metadata": {
        "colab": {
          "base_uri": "https://localhost:8080/"
        },
        "id": "bY_jfdhvlS72",
        "outputId": "d63be134-4d57-4374-96d7-aee5d0418976"
      },
      "execution_count": null,
      "outputs": [
        {
          "output_type": "stream",
          "name": "stdout",
          "text": [
            "{'node 1': 'HELLO WORLD'}\n",
            "{'node 2': 'HELLO WORLD end of node'}\n"
          ]
        }
      ]
    },
    {
      "cell_type": "code",
      "source": [
        "# simple state\n",
        "state = {\n",
        "    \"a\": 0,\n",
        "    \"b\": 0,\n",
        "    \"total\": 0\n",
        "}\n",
        "\n",
        "def sum(state: dict) -> dict:\n",
        "    'Function to add a + b from the state and update total'\n",
        "    state['total'] = state['a'] + state['b']\n",
        "    return state\n",
        "\n",
        "def double(state: dict) -> dict:\n",
        "    'Function to double total from state'\n",
        "    state['total'] = state['total'] * 2\n",
        "    return state\n",
        "\n",
        "graph = Graph()\n",
        "\n",
        "graph.add_node(\"sum\", sum)\n",
        "graph.add_node(\"double\", double)\n",
        "\n",
        "graph.add_edge(START, \"sum\")\n",
        "graph.add_edge(\"sum\", \"double\")\n",
        "graph.add_edge(\"double\", END)\n",
        "\n",
        "workflow = graph.compile()\n",
        "visualize_workflow(workflow)"
      ],
      "metadata": {
        "colab": {
          "base_uri": "https://localhost:8080/",
          "height": 350
        },
        "id": "JqTq0Sbhla1h",
        "outputId": "e23434e4-f954-4dfa-9353-c675cc79326a"
      },
      "execution_count": null,
      "outputs": [
        {
          "output_type": "display_data",
          "data": {
            "image/png": "[encoded data removed]",
            "text/plain": [
              "<IPython.core.display.Image object>"
            ]
          },
          "metadata": {}
        }
      ]
    },
    {
      "cell_type": "code",
      "source": [
        "for chunk in workflow.stream({\"a\": 1, \"b\": 2}):\n",
        "    print(chunk)"
      ],
      "metadata": {
        "colab": {
          "base_uri": "https://localhost:8080/"
        },
        "id": "iwBScClKm9n-",
        "outputId": "900e4de2-d44a-4e19-c73f-c35091766878"
      },
      "execution_count": null,
      "outputs": [
        {
          "output_type": "stream",
          "name": "stdout",
          "text": [
            "{'sum': {'a': 1, 'b': 2, 'total': 3}}\n",
            "{'double': {'a': 1, 'b': 2, 'total': 6}}\n"
          ]
        }
      ]
    },
    {
      "cell_type": "code",
      "source": [
        "# object oriented State (TypedDict)\n",
        "class AgentState(TypedDict):\n",
        "    a: int\n",
        "    b: int\n",
        "    total: int\n",
        "\n",
        "def sum(state: AgentState) -> dict:\n",
        "    'Function to add a + b from the state and update total'\n",
        "    # now we can update the state directly rather then returning the entire dictionary\n",
        "    return {'total': state['a'] + state['b']}\n",
        "\n",
        "def double(state: AgentState) -> dict:\n",
        "    'Function to double total from state'\n",
        "    return {'total': state['total'] * 2}\n",
        "\n",
        "graph = StateGraph(AgentState)\n",
        "\n",
        "graph.add_node(\"sum\", sum)\n",
        "graph.add_node(\"double\", double)\n",
        "\n",
        "graph.add_edge(START, \"sum\")\n",
        "graph.add_edge(\"sum\", \"double\")\n",
        "graph.add_edge(\"double\", END)\n",
        "\n",
        "workflow = graph.compile()\n",
        "visualize_workflow(workflow)"
      ],
      "metadata": {
        "colab": {
          "base_uri": "https://localhost:8080/",
          "height": 350
        },
        "id": "TobASOU0nFAR",
        "outputId": "69a4cfea-bd5d-4e24-87a8-4e8f6742e901"
      },
      "execution_count": null,
      "outputs": [
        {
          "output_type": "display_data",
          "data": {
            "image/png": "[encoded data removed]",
            "text/plain": [
              "<IPython.core.display.Image object>"
            ]
          },
          "metadata": {}
        }
      ]
    },
    {
      "cell_type": "code",
      "source": [
        "# more on streaming -> https://langchain-ai.github.io/langgraph/concepts/streaming/?h=stream\n",
        "for chunk in workflow.stream({\"a\": 1, \"b\": 2, \"total\": 0}, stream_mode=\"values\"):\n",
        "    print(chunk)"
      ],
      "metadata": {
        "colab": {
          "base_uri": "https://localhost:8080/"
        },
        "id": "H_Wj3HMEoYYA",
        "outputId": "4b32660a-0661-422e-8d8b-7f2dbe475856"
      },
      "execution_count": null,
      "outputs": [
        {
          "output_type": "stream",
          "name": "stdout",
          "text": [
            "{'a': 1, 'b': 2, 'total': 0}\n",
            "{'a': 1, 'b': 2, 'total': 3}\n",
            "{'a': 1, 'b': 2, 'total': 6}\n"
          ]
        }
      ]
    },
    {
      "cell_type": "code",
      "source": [
        "# Simple Graph with LLM\n",
        "llama3_1 = ChatGroq(model_name=\"llama-3.1-8b-instant\",\n",
        "                    temperature=0)\n",
        "\n",
        "class SentimentState(TypedDict):\n",
        "    review: str\n",
        "    sentiment: str\n",
        "\n",
        "def clean_str(state: SentimentState) -> SentimentState:\n",
        "    'Function to clean the string'\n",
        "    return {'review': state['review'].strip()}\n",
        "\n",
        "def classify_sentiment(state: SentimentState) -> SentimentState:\n",
        "    'Function to classify sentiment'\n",
        "\n",
        "    en_prompt = \"Classify the following review into positive, negative, or neutral. If there are more than one review, return a classification for each one.\\n\\n\" + state['review'] + \"\"\n",
        "    #es_prompt = \"Clasifica la siguiente reseña en positivo, negativo o neutral. Si hay más de una reseña, devuelve una clasificación individual para cada una.\\n\\n \" + state['review'] + \"\"\n",
        "    sentiment = llama3_1.invoke(en_prompt).content\n",
        "    return {'sentiment': sentiment}\n",
        "\n",
        "graph = StateGraph(SentimentState)\n",
        "\n",
        "graph.add_node(\"cleaning\", clean_str)\n",
        "graph.add_node(\"classification\", classify_sentiment)\n",
        "\n",
        "graph.add_edge(START, \"cleaning\")\n",
        "graph.add_edge(\"cleaning\", \"classification\")\n",
        "graph.add_edge(\"classification\", END)\n",
        "\n",
        "workflow = graph.compile()\n",
        "visualize_workflow(workflow)\n"
      ],
      "metadata": {
        "colab": {
          "base_uri": "https://localhost:8080/",
          "height": 350
        },
        "id": "kddD_kxtouZj",
        "outputId": "99e5a95c-3a22-4c69-d692-d760ae0fd8ea"
      },
      "execution_count": null,
      "outputs": [
        {
          "output_type": "display_data",
          "data": {
            "image/png": "[encoded data removed]",
            "text/plain": [
              "<IPython.core.display.Image object>"
            ]
          },
          "metadata": {}
        }
      ]
    },
    {
      "cell_type": "code",
      "source": [
        "for chunk in workflow.stream({\"review\": \"Me encanto este producto!\", \"sentiment\": \"\"}, stream_mode=\"values\"):\n",
        "    print(chunk)"
      ],
      "metadata": {
        "colab": {
          "base_uri": "https://localhost:8080/"
        },
        "id": "x8lDs1keuxmB",
        "outputId": "3e25f5be-e93e-44e5-b95a-98564bfa0b2d"
      },
      "execution_count": null,
      "outputs": [
        {
          "output_type": "stream",
          "name": "stdout",
          "text": [
            "{'review': 'Me encanto este producto!', 'sentiment': ''}\n",
            "{'review': 'Me encanto este producto!', 'sentiment': ''}\n",
            "{'review': 'Me encanto este producto!', 'sentiment': 'This review is classified as: Positive\\n\\nTranslation: \"I loved this product!\"'}\n"
          ]
        }
      ]
    },
    {
      "cell_type": "code",
      "source": [
        "# Nowadays LLMs generalize well enough to be able to deal with multiple languages simultaneously out of the box\n",
        "for chunk in workflow.stream({\"review\": \"1. This is a great product! 2. El curso no satisface mis expectativas\", \"sentiment\": \"\"}, stream_mode=\"values\"):\n",
        "    print(chunk)"
      ],
      "metadata": {
        "colab": {
          "base_uri": "https://localhost:8080/"
        },
        "id": "vNr2xPMqu6Fc",
        "outputId": "77ad2610-c657-4b90-d0c6-3ab42fbd9a71"
      },
      "execution_count": null,
      "outputs": [
        {
          "output_type": "stream",
          "name": "stdout",
          "text": [
            "{'review': '1. This is a great product! 2. El curso no satisface mis expectativas', 'sentiment': ''}\n",
            "{'review': '1. This is a great product! 2. El curso no satisface mis expectativas', 'sentiment': ''}\n",
            "{'review': '1. This is a great product! 2. El curso no satisface mis expectativas', 'sentiment': 'Based on the given reviews, here are the classifications:\\n\\n1. Positive: The first review says \"This is a great product!\" which is a clear expression of satisfaction and approval.\\n2. Negative: The second review says \"El curso no satisface mis expectativas\" which translates to \"The course does not meet my expectations.\" This is a negative statement indicating dissatisfaction.'}\n"
          ]
        }
      ]
    },
    {
      "cell_type": "code",
      "source": [
        "final_answer = workflow.invoke({\"review\": \"1. This is a great product! 2. El curso no satisface mis expectativas\", \"sentiment\": \"\"})\n",
        "print(final_answer['sentiment'])"
      ],
      "metadata": {
        "colab": {
          "base_uri": "https://localhost:8080/"
        },
        "id": "D5rGrwDWvgEN",
        "outputId": "888e697f-d2d3-4c0b-ed66-57d5d88b75b3"
      },
      "execution_count": null,
      "outputs": [
        {
          "output_type": "stream",
          "name": "stdout",
          "text": [
            "Based on the given reviews, here are the classifications:\n",
            "\n",
            "1. Positive: The first review states \"This is a great product!\" which is a clear expression of satisfaction and approval.\n",
            "2. Negative: The second review states \"El curso no satisface mis expectativas\" which translates to \"The course does not meet my expectations.\" This is a negative statement indicating dissatisfaction.\n"
          ]
        }
      ]
    },
    {
      "cell_type": "markdown",
      "source": [
        "Quick recap. We've seen the basic components of any langgraph workflow, which are: 1) A Graph (set of nodes and edges), and 2) a State (TypedDict or Python Pydantic class). We can use graphs without any State. However, if we want to have specific pieces of information available at any point in the workflow (whether it's context for an LLM or inputs for a function), then State is essential to define a data schema.\n",
        "\n",
        "So far, we've only considered linear workflows. An input is provided at the START node and operations are applied sequentially. In reality, most interesting problems aren't linear. This is where LangGraph truly shines, allowing us to set up cyclic workflows to iterate based on specific criteria. The building block for unlocking these applications is the conditional edge, the focus of this notebook.\n",
        "\n",
        "To create this edge, you need to provide three things:\n",
        "\n",
        "- **The upstream node**: the output of this node will be analyzed to determine what to do next\n",
        "- **A function**: this will be called to determine which node to call next. It must return a string\n",
        "- **A mapping**: this mapping will be used to assign the output of the function in (2) to another node. The keys must be possible values that the function in (2) could return. The values must be node names to go to if that value is returned."
      ],
      "metadata": {
        "id": "wnf2bsF4yoN8"
      }
    },
    {
      "cell_type": "code",
      "source": [
        "# Messages state with conditional edges\n",
        "class ChatbotState(TypedDict):\n",
        "    messages: Annotated[Sequence[BaseMessage], operator.add]\n",
        "    counter: int\n",
        "\n",
        "def chatbot(state: ChatbotState) -> ChatbotState:\n",
        "    'Function to generate a message with the LLM'\n",
        "    en_prompt = f\"Generate a short joke that rhymes with the following number: {state['counter']}\"\n",
        "    # es_prompt = f\"Genera un chiste corto que rime con el siguiente numero: {state['counter']}\"\n",
        "\n",
        "    # the reducer \"operator.add\" allows us to pass a list of BaseMessage objects and update the key \"messages\"\n",
        "    # it is very similar to the .extend() operation of a Python list\n",
        "    new_message = [llama3_1.invoke(en_prompt).content]\n",
        "    return {'messages': new_message}\n",
        "\n",
        "def add_count(state: ChatbotState) -> ChatbotState:\n",
        "    \"Function to update the counter\"\n",
        "    return {'counter': state['counter'] + 1}\n",
        "\n",
        "# Let's add a decision node\n",
        "def nodo_decision(state: ChatbotState) -> bool:\n",
        "    \"Function to determine if cycle should end\"\n",
        "    return state['counter'] < 5\n",
        "\n",
        "graph = StateGraph(ChatbotState)\n",
        "\n",
        "graph.add_node(\"chatbot\", chatbot)\n",
        "graph.add_node(\"add_count\", add_count)\n",
        "\n",
        "graph.add_edge(START, \"chatbot\")\n",
        "graph.add_edge(\"chatbot\", \"add_count\")\n",
        "graph.add_conditional_edges(\"add_count\", # upstream node: here is where the conditional edge starts\n",
        "                           nodo_decision, # python function to determine the routing decision\n",
        "                           { # map the decision funtion's output to the desired nodes\n",
        "                               True: \"chatbot\",\n",
        "                               False: END\n",
        "                           } # In this case, if counter < 5 we return to \"chatbot\", otherwise the the cycle ends.\n",
        "                            )\n",
        "\n",
        "workflow = graph.compile()\n",
        "visualize_workflow(workflow)"
      ],
      "metadata": {
        "colab": {
          "base_uri": "https://localhost:8080/",
          "height": 398
        },
        "id": "5Z1CvyemwJTO",
        "outputId": "ce5f3ef0-6c80-4201-b2da-c4fd910b6591"
      },
      "execution_count": null,
      "outputs": [
        {
          "output_type": "display_data",
          "data": {
            "image/png": "[encoded data removed]",
            "text/plain": [
              "<IPython.core.display.Image object>"
            ]
          },
          "metadata": {}
        }
      ]
    },
    {
      "cell_type": "code",
      "source": [
        "for chunk in workflow.stream({\"messages\": [], \"counter\": 0}, stream_mode=\"values\"):\n",
        "    print(chunk)"
      ],
      "metadata": {
        "colab": {
          "base_uri": "https://localhost:8080/"
        },
        "id": "ZhQNbSzEyYid",
        "outputId": "dccd3e75-35c7-4efd-dcf9-5e435de577af"
      },
      "execution_count": null,
      "outputs": [
        {
          "output_type": "stream",
          "name": "stdout",
          "text": [
            "{'messages': [], 'counter': 0}\n",
            "{'messages': ['Here\\'s a short joke that rhymes with \"0\":\\n\\nWhy did the zero go to the show?\\nBecause it was a \"go\" and wanted to know.'], 'counter': 0}\n",
            "{'messages': ['Here\\'s a short joke that rhymes with \"0\":\\n\\nWhy did the zero go to the show?\\nBecause it was a \"go\" and wanted to know.'], 'counter': 1}\n",
            "{'messages': ['Here\\'s a short joke that rhymes with \"0\":\\n\\nWhy did the zero go to the show?\\nBecause it was a \"go\" and wanted to know.', 'Why was the sun in a spin? \\nIt was number 1, the only one within.'], 'counter': 1}\n",
            "{'messages': ['Here\\'s a short joke that rhymes with \"0\":\\n\\nWhy did the zero go to the show?\\nBecause it was a \"go\" and wanted to know.', 'Why was the sun in a spin? \\nIt was number 1, the only one within.'], 'counter': 2}\n",
            "{'messages': ['Here\\'s a short joke that rhymes with \"0\":\\n\\nWhy did the zero go to the show?\\nBecause it was a \"go\" and wanted to know.', 'Why was the sun in a spin? \\nIt was number 1, the only one within.', 'Why was the math book sad after losing a clue? \\nBecause it had a problem that was true.'], 'counter': 2}\n",
            "{'messages': ['Here\\'s a short joke that rhymes with \"0\":\\n\\nWhy did the zero go to the show?\\nBecause it was a \"go\" and wanted to know.', 'Why was the sun in a spin? \\nIt was number 1, the only one within.', 'Why was the math book sad after losing a clue? \\nBecause it had a problem that was true.'], 'counter': 3}\n",
            "{'messages': ['Here\\'s a short joke that rhymes with \"0\":\\n\\nWhy did the zero go to the show?\\nBecause it was a \"go\" and wanted to know.', 'Why was the sun in a spin? \\nIt was number 1, the only one within.', 'Why was the math book sad after losing a clue? \\nBecause it had a problem that was true.', \"Here's a short joke that rhymes with the number 3:\\n\\nWhy did the cat join a band at sea?\\nBecause it wanted to be a purr-cussionist with glee.\"], 'counter': 3}\n",
            "{'messages': ['Here\\'s a short joke that rhymes with \"0\":\\n\\nWhy did the zero go to the show?\\nBecause it was a \"go\" and wanted to know.', 'Why was the sun in a spin? \\nIt was number 1, the only one within.', 'Why was the math book sad after losing a clue? \\nBecause it had a problem that was true.', \"Here's a short joke that rhymes with the number 3:\\n\\nWhy did the cat join a band at sea?\\nBecause it wanted to be a purr-cussionist with glee.\"], 'counter': 4}\n",
            "{'messages': ['Here\\'s a short joke that rhymes with \"0\":\\n\\nWhy did the zero go to the show?\\nBecause it was a \"go\" and wanted to know.', 'Why was the sun in a spin? \\nIt was number 1, the only one within.', 'Why was the math book sad after losing a clue? \\nBecause it had a problem that was true.', \"Here's a short joke that rhymes with the number 3:\\n\\nWhy did the cat join a band at sea?\\nBecause it wanted to be a purr-cussionist with glee.\", \"Here's a short joke that rhymes with the number 4:\\n\\nWhy did the cat join a band at the door?\\nBecause it wanted to be the purr-cussionist for sure.\"], 'counter': 4}\n",
            "{'messages': ['Here\\'s a short joke that rhymes with \"0\":\\n\\nWhy did the zero go to the show?\\nBecause it was a \"go\" and wanted to know.', 'Why was the sun in a spin? \\nIt was number 1, the only one within.', 'Why was the math book sad after losing a clue? \\nBecause it had a problem that was true.', \"Here's a short joke that rhymes with the number 3:\\n\\nWhy did the cat join a band at sea?\\nBecause it wanted to be a purr-cussionist with glee.\", \"Here's a short joke that rhymes with the number 4:\\n\\nWhy did the cat join a band at the door?\\nBecause it wanted to be the purr-cussionist for sure.\"], 'counter': 5}\n"
          ]
        }
      ]
    },
    {
      "cell_type": "code",
      "source": [
        "final_answer = workflow.invoke({\"messages\": [], \"counter\": 0})['messages']\n",
        "\n",
        "for i, msg in enumerate(final_answer):\n",
        "    print(f\"\\n---- Joke # {i} ----\\n\")\n",
        "    print(msg)"
      ],
      "metadata": {
        "colab": {
          "base_uri": "https://localhost:8080/"
        },
        "id": "x1100nE6zEX0",
        "outputId": "4f05683f-ae60-4e87-a1ce-27450725f16d"
      },
      "execution_count": null,
      "outputs": [
        {
          "output_type": "stream",
          "name": "stdout",
          "text": [
            "\n",
            "---- Joke # 0 ----\n",
            "\n",
            "Here's a short joke that rhymes with \"0\":\n",
            "\n",
            "Why did the zero go to the show?\n",
            "Because it was a \"go\" and wanted to know.\n",
            "\n",
            "---- Joke # 1 ----\n",
            "\n",
            "Why was the sun in a spin? \n",
            "It was number 1, the only one within.\n",
            "\n",
            "---- Joke # 2 ----\n",
            "\n",
            "Why was the math book sad after losing a clue? \n",
            "Because it had a problem that was true.\n",
            "\n",
            "---- Joke # 3 ----\n",
            "\n",
            "Here's a short joke that rhymes with the number 3:\n",
            "\n",
            "Why did the cat join a band at sea?\n",
            "Because it wanted to be a purr-cussionist with glee.\n",
            "\n",
            "---- Joke # 4 ----\n",
            "\n",
            "Here's a short joke that rhymes with the number 4:\n",
            "\n",
            "Why did the cat join a band at the door?\n",
            "Because it wanted to be the purr-cussionist for sure.\n"
          ]
        }
      ]
    },
    {
      "cell_type": "markdown",
      "source": [
        "LLMs still need a bit of work on the humor side 😅"
      ],
      "metadata": {
        "id": "vyOjPvILGR4K"
      }
    },
    {
      "cell_type": "code",
      "source": [
        "# the last example\n",
        "# MessagesState with conditional edges\n",
        "## Chatbots are the most common applications, and they all require monitoring a chat history to take into account previous context\n",
        "## Our ChatbotState essentially fulfills this function with the list of messages `messages` and the reducer operator.add\n",
        "## Given the common usage, LangGraph provides a state with these characteristics to save a bit of time and code\n",
        "\n",
        "from langgraph.graph import MessagesState\n",
        "\n",
        "def professor(state: MessagesState) -> MessagesState:\n",
        "    \"Function to generate a response to a student's question\"\n",
        "\n",
        "    prompt = \"You are a detailed and professional Austrian economics professor.\" \\\n",
        "            + f\"Please provide a concise but complete answer to the following question:\\n\\n{state['messages'][-1]}\"\n",
        "\n",
        "    nuevo_mensaje = [llama3_1.invoke(prompt).content]\n",
        "\n",
        "    return {'messages': nuevo_mensaje}\n",
        "\n",
        "def student(state: MessagesState) -> MessagesState:\n",
        "    \"Function to generate a reaction and a question to the professor's answer\"\n",
        "\n",
        "    prompt = \"You are a curious and intelligent university economics student.\" \\\n",
        "            + f\"Provide a question for the following answer:\\n\\n{state['messages'][-1]}\"\n",
        "    nuevo_mensaje = [llama3_1.invoke(prompt).content]\n",
        "\n",
        "    return {'messages': nuevo_mensaje}\n",
        "\n",
        "def decision_node(state: MessagesState) -> bool:\n",
        "    \"Function to determine if graph should end\"\n",
        "    if len(state['messages']) <= 6:\n",
        "        return True\n",
        "    else:\n",
        "        return False\n",
        "\n",
        "graph = StateGraph(MessagesState)\n",
        "\n",
        "graph.add_node(\"professor\", professor)\n",
        "graph.add_node(\"student\", student)\n",
        "\n",
        "graph.add_edge(START, \"professor\")\n",
        "graph.add_edge(\"student\", \"professor\")\n",
        "graph.add_conditional_edges(\"professor\",\n",
        "                            decision_node,\n",
        "                            {\n",
        "                                True: \"student\",\n",
        "                                False: END\n",
        "                            })\n",
        "\n",
        "workflow = graph.compile()\n",
        "visualize_workflow(workflow)"
      ],
      "metadata": {
        "colab": {
          "base_uri": "https://localhost:8080/",
          "height": 290
        },
        "id": "SUJb7_kazVFE",
        "outputId": "bd894cbd-3aca-4ed1-e81a-f7056f75f523"
      },
      "execution_count": null,
      "outputs": [
        {
          "output_type": "display_data",
          "data": {
            "image/png": "[encoded data removed]",
            "text/plain": [
              "<IPython.core.display.Image object>"
            ]
          },
          "metadata": {}
        }
      ]
    },
    {
      "cell_type": "code",
      "source": [
        "from langchain_core.messages import HumanMessage\n",
        "\n",
        "chat_init = {'messages': [HumanMessage(\"What is the meaning of price?\")]}\n",
        "\n",
        "for chunk in workflow.stream(chat_init, stream_mode=\"values\"):\n",
        "    print(chunk)"
      ],
      "metadata": {
        "colab": {
          "base_uri": "https://localhost:8080/"
        },
        "id": "h7_2mp7C41b7",
        "outputId": "ef9006a6-2ab4-49f3-e47b-f49cfb840d23"
      },
      "execution_count": null,
      "outputs": [
        {
          "output_type": "stream",
          "name": "stdout",
          "text": [
            "{'messages': [HumanMessage(content='What is the meaning of price?', additional_kwargs={}, response_metadata={}, id='c50b74a0-1a61-41f0-9a67-d2f7b575027b')]}\n",
            "{'messages': [HumanMessage(content='What is the meaning of price?', additional_kwargs={}, response_metadata={}, id='c50b74a0-1a61-41f0-9a67-d2f7b575027b'), HumanMessage(content=\"As an Austrian economics professor, I'd be delighted to provide a comprehensive explanation of the concept of price.\\n\\n**The Meaning of Price**\\n\\nIn economics, price is a fundamental concept that represents the amount of money exchanged for a good or service in a market transaction. It is a crucial mechanism that facilitates the allocation of resources, coordinates the actions of buyers and sellers, and reflects the relative scarcity of goods and services.\\n\\n**Key Characteristics of Price**\\n\\n1. **Relative Value**: Price is a relative concept, meaning it is determined by the interaction of supply and demand in a market. It reflects the relative value of a good or service compared to other goods and services.\\n2. **Subjective Value**: Price is a subjective measure, as it is determined by the valuations of individual buyers and sellers. Each person's willingness to pay or accept a price is influenced by their personal preferences, needs, and circumstances.\\n3. **Market-Determined**: Price is determined by the market forces of supply and demand, rather than by any external authority or government intervention.\\n4. **Dynamic**: Price is not a fixed or static concept. It can fluctuate in response to changes in supply and demand, technological advancements, and other market factors.\\n\\n**Functions of Price**\\n\\n1. **Resource Allocation**: Price helps to allocate resources efficiently by directing them towards their most valuable uses.\\n2. **Coordination**: Price facilitates the coordination of economic activity by providing a common language and framework for buyers and sellers to communicate and negotiate.\\n3. **Information**: Price conveys information about the relative scarcity and value of goods and services, helping buyers and sellers make informed decisions.\\n4. **Incentives**: Price provides incentives for producers to innovate, improve quality, and reduce costs, as well as for consumers to make rational purchasing decisions.\\n\\n**Conclusion**\\n\\nIn conclusion, price is a multifaceted concept that plays a vital role in the functioning of markets. It reflects the relative scarcity and value of goods and services, facilitates resource allocation and coordination, conveys information, and provides incentives for economic activity. As an Austrian economics professor, I emphasize the importance of understanding price as a subjective, market-determined, and dynamic concept that is essential for a well-functioning economy.\", additional_kwargs={}, response_metadata={}, id='46b7de08-e346-43f2-920e-ba6c49b7f102')]}\n",
            "{'messages': [HumanMessage(content='What is the meaning of price?', additional_kwargs={}, response_metadata={}, id='c50b74a0-1a61-41f0-9a67-d2f7b575027b'), HumanMessage(content=\"As an Austrian economics professor, I'd be delighted to provide a comprehensive explanation of the concept of price.\\n\\n**The Meaning of Price**\\n\\nIn economics, price is a fundamental concept that represents the amount of money exchanged for a good or service in a market transaction. It is a crucial mechanism that facilitates the allocation of resources, coordinates the actions of buyers and sellers, and reflects the relative scarcity of goods and services.\\n\\n**Key Characteristics of Price**\\n\\n1. **Relative Value**: Price is a relative concept, meaning it is determined by the interaction of supply and demand in a market. It reflects the relative value of a good or service compared to other goods and services.\\n2. **Subjective Value**: Price is a subjective measure, as it is determined by the valuations of individual buyers and sellers. Each person's willingness to pay or accept a price is influenced by their personal preferences, needs, and circumstances.\\n3. **Market-Determined**: Price is determined by the market forces of supply and demand, rather than by any external authority or government intervention.\\n4. **Dynamic**: Price is not a fixed or static concept. It can fluctuate in response to changes in supply and demand, technological advancements, and other market factors.\\n\\n**Functions of Price**\\n\\n1. **Resource Allocation**: Price helps to allocate resources efficiently by directing them towards their most valuable uses.\\n2. **Coordination**: Price facilitates the coordination of economic activity by providing a common language and framework for buyers and sellers to communicate and negotiate.\\n3. **Information**: Price conveys information about the relative scarcity and value of goods and services, helping buyers and sellers make informed decisions.\\n4. **Incentives**: Price provides incentives for producers to innovate, improve quality, and reduce costs, as well as for consumers to make rational purchasing decisions.\\n\\n**Conclusion**\\n\\nIn conclusion, price is a multifaceted concept that plays a vital role in the functioning of markets. It reflects the relative scarcity and value of goods and services, facilitates resource allocation and coordination, conveys information, and provides incentives for economic activity. As an Austrian economics professor, I emphasize the importance of understanding price as a subjective, market-determined, and dynamic concept that is essential for a well-functioning economy.\", additional_kwargs={}, response_metadata={}, id='46b7de08-e346-43f2-920e-ba6c49b7f102'), HumanMessage(content=\"Here's a question that I'd like to ask in response to the provided explanation of the concept of price:\\n\\nWhile the explanation highlights the importance of price in facilitating resource allocation, coordination, and conveying information, it seems to focus primarily on the microeconomic aspects of price. However, price also plays a crucial role in macroeconomic phenomena, such as inflation, economic growth, and international trade. \\n\\nCan you elaborate on how the concept of price relates to these macroeconomic aspects, and how it influences the overall performance of an economy?\", additional_kwargs={}, response_metadata={}, id='12b9dee9-c310-4b2b-a1ee-703d1a2418e9')]}\n",
            "{'messages': [HumanMessage(content='What is the meaning of price?', additional_kwargs={}, response_metadata={}, id='c50b74a0-1a61-41f0-9a67-d2f7b575027b'), HumanMessage(content=\"As an Austrian economics professor, I'd be delighted to provide a comprehensive explanation of the concept of price.\\n\\n**The Meaning of Price**\\n\\nIn economics, price is a fundamental concept that represents the amount of money exchanged for a good or service in a market transaction. It is a crucial mechanism that facilitates the allocation of resources, coordinates the actions of buyers and sellers, and reflects the relative scarcity of goods and services.\\n\\n**Key Characteristics of Price**\\n\\n1. **Relative Value**: Price is a relative concept, meaning it is determined by the interaction of supply and demand in a market. It reflects the relative value of a good or service compared to other goods and services.\\n2. **Subjective Value**: Price is a subjective measure, as it is determined by the valuations of individual buyers and sellers. Each person's willingness to pay or accept a price is influenced by their personal preferences, needs, and circumstances.\\n3. **Market-Determined**: Price is determined by the market forces of supply and demand, rather than by any external authority or government intervention.\\n4. **Dynamic**: Price is not a fixed or static concept. It can fluctuate in response to changes in supply and demand, technological advancements, and other market factors.\\n\\n**Functions of Price**\\n\\n1. **Resource Allocation**: Price helps to allocate resources efficiently by directing them towards their most valuable uses.\\n2. **Coordination**: Price facilitates the coordination of economic activity by providing a common language and framework for buyers and sellers to communicate and negotiate.\\n3. **Information**: Price conveys information about the relative scarcity and value of goods and services, helping buyers and sellers make informed decisions.\\n4. **Incentives**: Price provides incentives for producers to innovate, improve quality, and reduce costs, as well as for consumers to make rational purchasing decisions.\\n\\n**Conclusion**\\n\\nIn conclusion, price is a multifaceted concept that plays a vital role in the functioning of markets. It reflects the relative scarcity and value of goods and services, facilitates resource allocation and coordination, conveys information, and provides incentives for economic activity. As an Austrian economics professor, I emphasize the importance of understanding price as a subjective, market-determined, and dynamic concept that is essential for a well-functioning economy.\", additional_kwargs={}, response_metadata={}, id='46b7de08-e346-43f2-920e-ba6c49b7f102'), HumanMessage(content=\"Here's a question that I'd like to ask in response to the provided explanation of the concept of price:\\n\\nWhile the explanation highlights the importance of price in facilitating resource allocation, coordination, and conveying information, it seems to focus primarily on the microeconomic aspects of price. However, price also plays a crucial role in macroeconomic phenomena, such as inflation, economic growth, and international trade. \\n\\nCan you elaborate on how the concept of price relates to these macroeconomic aspects, and how it influences the overall performance of an economy?\", additional_kwargs={}, response_metadata={}, id='12b9dee9-c310-4b2b-a1ee-703d1a2418e9'), HumanMessage(content=\"An astute observation, my inquisitive student. Indeed, the concept of price extends far beyond the microeconomic realm, influencing macroeconomic phenomena in profound ways. Let us delve into the intricacies of price's relationship with inflation, economic growth, and international trade.\\n\\n**Inflation:**\\nPrice plays a pivotal role in the inflation process. As the money supply increases, the demand for goods and services rises, leading to higher prices. This is because the increased money supply chases a constant quantity of goods, driving up their prices. Inflation, therefore, is a monetary phenomenon, and price is a key indicator of its presence. The general price level, measured by the Consumer Price Index (CPI), is a widely used metric to track inflation.\\n\\n**Economic Growth:**\\nPrice is also a crucial factor in economic growth. As an economy grows, the demand for goods and services increases, leading to higher prices. However, this is not necessarily a bad thing. In a growing economy, higher prices can reflect increased productivity, innovation, and economic efficiency. The price mechanism helps to allocate resources towards the most valuable uses, driving economic growth and prosperity.\\n\\n**International Trade:**\\nPrice is a key determinant of international trade patterns. The law of comparative advantage, which states that countries should specialize in producing goods for which they have a lower opportunity cost, is closely tied to price. Countries with lower production costs or more efficient production processes will export goods at lower prices, while importing goods at higher prices. This leads to a more efficient allocation of resources globally, as countries specialize in producing goods for which they have a comparative advantage.\\n\\n**Additional Macroeconomic Aspects:**\\nPrice also influences other macroeconomic phenomena, such as:\\n\\n1. **Monetary Policy:** Central banks use interest rates to influence the price level and, subsequently, inflation expectations. By adjusting interest rates, central banks can affect the money supply, credit availability, and, ultimately, the price level.\\n2. **Fiscal Policy:** Government spending and taxation can also impact the price level. Expansionary fiscal policies, such as increased government spending, can lead to higher prices, while contractionary policies, such as tax increases, can lead to lower prices.\\n3. **Exchange Rates:** Changes in exchange rates can affect the price of imported goods and, subsequently, the overall price level. A depreciation of the exchange rate can make imports more expensive, leading to higher prices, while an appreciation can make imports cheaper, leading to lower prices.\\n\\nIn conclusion, the concept of price is a fundamental aspect of macroeconomics, influencing inflation, economic growth, international trade, and other macroeconomic phenomena. Understanding the role of price in these areas is essential for policymakers, economists, and business leaders seeking to navigate the complexities of the global economy.\", additional_kwargs={}, response_metadata={}, id='577999d6-5293-4181-a482-f0c0c8e05301')]}\n",
            "{'messages': [HumanMessage(content='What is the meaning of price?', additional_kwargs={}, response_metadata={}, id='c50b74a0-1a61-41f0-9a67-d2f7b575027b'), HumanMessage(content=\"As an Austrian economics professor, I'd be delighted to provide a comprehensive explanation of the concept of price.\\n\\n**The Meaning of Price**\\n\\nIn economics, price is a fundamental concept that represents the amount of money exchanged for a good or service in a market transaction. It is a crucial mechanism that facilitates the allocation of resources, coordinates the actions of buyers and sellers, and reflects the relative scarcity of goods and services.\\n\\n**Key Characteristics of Price**\\n\\n1. **Relative Value**: Price is a relative concept, meaning it is determined by the interaction of supply and demand in a market. It reflects the relative value of a good or service compared to other goods and services.\\n2. **Subjective Value**: Price is a subjective measure, as it is determined by the valuations of individual buyers and sellers. Each person's willingness to pay or accept a price is influenced by their personal preferences, needs, and circumstances.\\n3. **Market-Determined**: Price is determined by the market forces of supply and demand, rather than by any external authority or government intervention.\\n4. **Dynamic**: Price is not a fixed or static concept. It can fluctuate in response to changes in supply and demand, technological advancements, and other market factors.\\n\\n**Functions of Price**\\n\\n1. **Resource Allocation**: Price helps to allocate resources efficiently by directing them towards their most valuable uses.\\n2. **Coordination**: Price facilitates the coordination of economic activity by providing a common language and framework for buyers and sellers to communicate and negotiate.\\n3. **Information**: Price conveys information about the relative scarcity and value of goods and services, helping buyers and sellers make informed decisions.\\n4. **Incentives**: Price provides incentives for producers to innovate, improve quality, and reduce costs, as well as for consumers to make rational purchasing decisions.\\n\\n**Conclusion**\\n\\nIn conclusion, price is a multifaceted concept that plays a vital role in the functioning of markets. It reflects the relative scarcity and value of goods and services, facilitates resource allocation and coordination, conveys information, and provides incentives for economic activity. As an Austrian economics professor, I emphasize the importance of understanding price as a subjective, market-determined, and dynamic concept that is essential for a well-functioning economy.\", additional_kwargs={}, response_metadata={}, id='46b7de08-e346-43f2-920e-ba6c49b7f102'), HumanMessage(content=\"Here's a question that I'd like to ask in response to the provided explanation of the concept of price:\\n\\nWhile the explanation highlights the importance of price in facilitating resource allocation, coordination, and conveying information, it seems to focus primarily on the microeconomic aspects of price. However, price also plays a crucial role in macroeconomic phenomena, such as inflation, economic growth, and international trade. \\n\\nCan you elaborate on how the concept of price relates to these macroeconomic aspects, and how it influences the overall performance of an economy?\", additional_kwargs={}, response_metadata={}, id='12b9dee9-c310-4b2b-a1ee-703d1a2418e9'), HumanMessage(content=\"An astute observation, my inquisitive student. Indeed, the concept of price extends far beyond the microeconomic realm, influencing macroeconomic phenomena in profound ways. Let us delve into the intricacies of price's relationship with inflation, economic growth, and international trade.\\n\\n**Inflation:**\\nPrice plays a pivotal role in the inflation process. As the money supply increases, the demand for goods and services rises, leading to higher prices. This is because the increased money supply chases a constant quantity of goods, driving up their prices. Inflation, therefore, is a monetary phenomenon, and price is a key indicator of its presence. The general price level, measured by the Consumer Price Index (CPI), is a widely used metric to track inflation.\\n\\n**Economic Growth:**\\nPrice is also a crucial factor in economic growth. As an economy grows, the demand for goods and services increases, leading to higher prices. However, this is not necessarily a bad thing. In a growing economy, higher prices can reflect increased productivity, innovation, and economic efficiency. The price mechanism helps to allocate resources towards the most valuable uses, driving economic growth and prosperity.\\n\\n**International Trade:**\\nPrice is a key determinant of international trade patterns. The law of comparative advantage, which states that countries should specialize in producing goods for which they have a lower opportunity cost, is closely tied to price. Countries with lower production costs or more efficient production processes will export goods at lower prices, while importing goods at higher prices. This leads to a more efficient allocation of resources globally, as countries specialize in producing goods for which they have a comparative advantage.\\n\\n**Additional Macroeconomic Aspects:**\\nPrice also influences other macroeconomic phenomena, such as:\\n\\n1. **Monetary Policy:** Central banks use interest rates to influence the price level and, subsequently, inflation expectations. By adjusting interest rates, central banks can affect the money supply, credit availability, and, ultimately, the price level.\\n2. **Fiscal Policy:** Government spending and taxation can also impact the price level. Expansionary fiscal policies, such as increased government spending, can lead to higher prices, while contractionary policies, such as tax increases, can lead to lower prices.\\n3. **Exchange Rates:** Changes in exchange rates can affect the price of imported goods and, subsequently, the overall price level. A depreciation of the exchange rate can make imports more expensive, leading to higher prices, while an appreciation can make imports cheaper, leading to lower prices.\\n\\nIn conclusion, the concept of price is a fundamental aspect of macroeconomics, influencing inflation, economic growth, international trade, and other macroeconomic phenomena. Understanding the role of price in these areas is essential for policymakers, economists, and business leaders seeking to navigate the complexities of the global economy.\", additional_kwargs={}, response_metadata={}, id='577999d6-5293-4181-a482-f0c0c8e05301'), HumanMessage(content='Here\\'s a question that could lead to this response:\\n\\n\"What are some key ways in which the concept of price extends beyond the microeconomic realm and influences macroeconomic phenomena, such as inflation, economic growth, and international trade?\"', additional_kwargs={}, response_metadata={}, id='c066dfe6-4bf7-49a9-9e82-90b126613641')]}\n",
            "{'messages': [HumanMessage(content='What is the meaning of price?', additional_kwargs={}, response_metadata={}, id='c50b74a0-1a61-41f0-9a67-d2f7b575027b'), HumanMessage(content=\"As an Austrian economics professor, I'd be delighted to provide a comprehensive explanation of the concept of price.\\n\\n**The Meaning of Price**\\n\\nIn economics, price is a fundamental concept that represents the amount of money exchanged for a good or service in a market transaction. It is a crucial mechanism that facilitates the allocation of resources, coordinates the actions of buyers and sellers, and reflects the relative scarcity of goods and services.\\n\\n**Key Characteristics of Price**\\n\\n1. **Relative Value**: Price is a relative concept, meaning it is determined by the interaction of supply and demand in a market. It reflects the relative value of a good or service compared to other goods and services.\\n2. **Subjective Value**: Price is a subjective measure, as it is determined by the valuations of individual buyers and sellers. Each person's willingness to pay or accept a price is influenced by their personal preferences, needs, and circumstances.\\n3. **Market-Determined**: Price is determined by the market forces of supply and demand, rather than by any external authority or government intervention.\\n4. **Dynamic**: Price is not a fixed or static concept. It can fluctuate in response to changes in supply and demand, technological advancements, and other market factors.\\n\\n**Functions of Price**\\n\\n1. **Resource Allocation**: Price helps to allocate resources efficiently by directing them towards their most valuable uses.\\n2. **Coordination**: Price facilitates the coordination of economic activity by providing a common language and framework for buyers and sellers to communicate and negotiate.\\n3. **Information**: Price conveys information about the relative scarcity and value of goods and services, helping buyers and sellers make informed decisions.\\n4. **Incentives**: Price provides incentives for producers to innovate, improve quality, and reduce costs, as well as for consumers to make rational purchasing decisions.\\n\\n**Conclusion**\\n\\nIn conclusion, price is a multifaceted concept that plays a vital role in the functioning of markets. It reflects the relative scarcity and value of goods and services, facilitates resource allocation and coordination, conveys information, and provides incentives for economic activity. As an Austrian economics professor, I emphasize the importance of understanding price as a subjective, market-determined, and dynamic concept that is essential for a well-functioning economy.\", additional_kwargs={}, response_metadata={}, id='46b7de08-e346-43f2-920e-ba6c49b7f102'), HumanMessage(content=\"Here's a question that I'd like to ask in response to the provided explanation of the concept of price:\\n\\nWhile the explanation highlights the importance of price in facilitating resource allocation, coordination, and conveying information, it seems to focus primarily on the microeconomic aspects of price. However, price also plays a crucial role in macroeconomic phenomena, such as inflation, economic growth, and international trade. \\n\\nCan you elaborate on how the concept of price relates to these macroeconomic aspects, and how it influences the overall performance of an economy?\", additional_kwargs={}, response_metadata={}, id='12b9dee9-c310-4b2b-a1ee-703d1a2418e9'), HumanMessage(content=\"An astute observation, my inquisitive student. Indeed, the concept of price extends far beyond the microeconomic realm, influencing macroeconomic phenomena in profound ways. Let us delve into the intricacies of price's relationship with inflation, economic growth, and international trade.\\n\\n**Inflation:**\\nPrice plays a pivotal role in the inflation process. As the money supply increases, the demand for goods and services rises, leading to higher prices. This is because the increased money supply chases a constant quantity of goods, driving up their prices. Inflation, therefore, is a monetary phenomenon, and price is a key indicator of its presence. The general price level, measured by the Consumer Price Index (CPI), is a widely used metric to track inflation.\\n\\n**Economic Growth:**\\nPrice is also a crucial factor in economic growth. As an economy grows, the demand for goods and services increases, leading to higher prices. However, this is not necessarily a bad thing. In a growing economy, higher prices can reflect increased productivity, innovation, and economic efficiency. The price mechanism helps to allocate resources towards the most valuable uses, driving economic growth and prosperity.\\n\\n**International Trade:**\\nPrice is a key determinant of international trade patterns. The law of comparative advantage, which states that countries should specialize in producing goods for which they have a lower opportunity cost, is closely tied to price. Countries with lower production costs or more efficient production processes will export goods at lower prices, while importing goods at higher prices. This leads to a more efficient allocation of resources globally, as countries specialize in producing goods for which they have a comparative advantage.\\n\\n**Additional Macroeconomic Aspects:**\\nPrice also influences other macroeconomic phenomena, such as:\\n\\n1. **Monetary Policy:** Central banks use interest rates to influence the price level and, subsequently, inflation expectations. By adjusting interest rates, central banks can affect the money supply, credit availability, and, ultimately, the price level.\\n2. **Fiscal Policy:** Government spending and taxation can also impact the price level. Expansionary fiscal policies, such as increased government spending, can lead to higher prices, while contractionary policies, such as tax increases, can lead to lower prices.\\n3. **Exchange Rates:** Changes in exchange rates can affect the price of imported goods and, subsequently, the overall price level. A depreciation of the exchange rate can make imports more expensive, leading to higher prices, while an appreciation can make imports cheaper, leading to lower prices.\\n\\nIn conclusion, the concept of price is a fundamental aspect of macroeconomics, influencing inflation, economic growth, international trade, and other macroeconomic phenomena. Understanding the role of price in these areas is essential for policymakers, economists, and business leaders seeking to navigate the complexities of the global economy.\", additional_kwargs={}, response_metadata={}, id='577999d6-5293-4181-a482-f0c0c8e05301'), HumanMessage(content='Here\\'s a question that could lead to this response:\\n\\n\"What are some key ways in which the concept of price extends beyond the microeconomic realm and influences macroeconomic phenomena, such as inflation, economic growth, and international trade?\"', additional_kwargs={}, response_metadata={}, id='c066dfe6-4bf7-49a9-9e82-90b126613641'), HumanMessage(content='The concept of price is a fundamental building block of economics, extending far beyond the microeconomic realm to influence various macroeconomic phenomena. Here are some key ways in which price affects macroeconomic outcomes:\\n\\n1. **Inflation**: Prices are a key driver of inflation, which is a sustained increase in the general price level of goods and services in an economy. As prices rise, the purchasing power of consumers decreases, leading to a decrease in the standard of living. Inflation can be caused by an increase in aggregate demand, a decrease in aggregate supply, or an increase in the money supply.\\n\\n2. **Economic Growth**: Prices play a crucial role in economic growth by influencing the allocation of resources. When prices are high, producers are incentivized to produce more, leading to an increase in supply and economic growth. Conversely, low prices can lead to a decrease in supply and economic stagnation.\\n\\n3. **International Trade**: Prices are a key determinant of international trade patterns. Countries with lower prices for goods and services tend to export more, while countries with higher prices tend to import more. This is because prices reflect the opportunity cost of production, and countries with lower prices can produce goods and services more cheaply.\\n\\n4. **Monetary Policy**: Prices are a key indicator of the effectiveness of monetary policy. Central banks use interest rates to influence the money supply and, subsequently, prices. When interest rates are low, the money supply increases, leading to higher prices. Conversely, when interest rates are high, the money supply decreases, leading to lower prices.\\n\\n5. **Supply and Demand Imbalances**: Prices can also reflect supply and demand imbalances in specific markets. When demand exceeds supply, prices rise, and when supply exceeds demand, prices fall. This can lead to economic instability and fluctuations in economic growth.\\n\\n6. **Resource Allocation**: Prices play a crucial role in resource allocation by reflecting the opportunity cost of production. When prices are high, producers are incentivized to produce more of a particular good or service, while when prices are low, producers are incentivized to produce less.\\n\\n7. **Inequality and Distribution**: Prices can also influence income inequality and distribution. When prices rise, the purchasing power of consumers decreases, leading to a decrease in the standard of living for low-income households. Conversely, when prices fall, the purchasing power of consumers increases, leading to an increase in the standard of living for low-income households.\\n\\nIn conclusion, prices are a fundamental concept in economics that extends far beyond the microeconomic realm to influence various macroeconomic phenomena. Understanding the role of prices in shaping economic outcomes is essential for policymakers, businesses, and individuals seeking to navigate the complexities of the economy.', additional_kwargs={}, response_metadata={}, id='05ab6410-87fd-485a-84f0-2ffd7367c77b')]}\n",
            "{'messages': [HumanMessage(content='What is the meaning of price?', additional_kwargs={}, response_metadata={}, id='c50b74a0-1a61-41f0-9a67-d2f7b575027b'), HumanMessage(content=\"As an Austrian economics professor, I'd be delighted to provide a comprehensive explanation of the concept of price.\\n\\n**The Meaning of Price**\\n\\nIn economics, price is a fundamental concept that represents the amount of money exchanged for a good or service in a market transaction. It is a crucial mechanism that facilitates the allocation of resources, coordinates the actions of buyers and sellers, and reflects the relative scarcity of goods and services.\\n\\n**Key Characteristics of Price**\\n\\n1. **Relative Value**: Price is a relative concept, meaning it is determined by the interaction of supply and demand in a market. It reflects the relative value of a good or service compared to other goods and services.\\n2. **Subjective Value**: Price is a subjective measure, as it is determined by the valuations of individual buyers and sellers. Each person's willingness to pay or accept a price is influenced by their personal preferences, needs, and circumstances.\\n3. **Market-Determined**: Price is determined by the market forces of supply and demand, rather than by any external authority or government intervention.\\n4. **Dynamic**: Price is not a fixed or static concept. It can fluctuate in response to changes in supply and demand, technological advancements, and other market factors.\\n\\n**Functions of Price**\\n\\n1. **Resource Allocation**: Price helps to allocate resources efficiently by directing them towards their most valuable uses.\\n2. **Coordination**: Price facilitates the coordination of economic activity by providing a common language and framework for buyers and sellers to communicate and negotiate.\\n3. **Information**: Price conveys information about the relative scarcity and value of goods and services, helping buyers and sellers make informed decisions.\\n4. **Incentives**: Price provides incentives for producers to innovate, improve quality, and reduce costs, as well as for consumers to make rational purchasing decisions.\\n\\n**Conclusion**\\n\\nIn conclusion, price is a multifaceted concept that plays a vital role in the functioning of markets. It reflects the relative scarcity and value of goods and services, facilitates resource allocation and coordination, conveys information, and provides incentives for economic activity. As an Austrian economics professor, I emphasize the importance of understanding price as a subjective, market-determined, and dynamic concept that is essential for a well-functioning economy.\", additional_kwargs={}, response_metadata={}, id='46b7de08-e346-43f2-920e-ba6c49b7f102'), HumanMessage(content=\"Here's a question that I'd like to ask in response to the provided explanation of the concept of price:\\n\\nWhile the explanation highlights the importance of price in facilitating resource allocation, coordination, and conveying information, it seems to focus primarily on the microeconomic aspects of price. However, price also plays a crucial role in macroeconomic phenomena, such as inflation, economic growth, and international trade. \\n\\nCan you elaborate on how the concept of price relates to these macroeconomic aspects, and how it influences the overall performance of an economy?\", additional_kwargs={}, response_metadata={}, id='12b9dee9-c310-4b2b-a1ee-703d1a2418e9'), HumanMessage(content=\"An astute observation, my inquisitive student. Indeed, the concept of price extends far beyond the microeconomic realm, influencing macroeconomic phenomena in profound ways. Let us delve into the intricacies of price's relationship with inflation, economic growth, and international trade.\\n\\n**Inflation:**\\nPrice plays a pivotal role in the inflation process. As the money supply increases, the demand for goods and services rises, leading to higher prices. This is because the increased money supply chases a constant quantity of goods, driving up their prices. Inflation, therefore, is a monetary phenomenon, and price is a key indicator of its presence. The general price level, measured by the Consumer Price Index (CPI), is a widely used metric to track inflation.\\n\\n**Economic Growth:**\\nPrice is also a crucial factor in economic growth. As an economy grows, the demand for goods and services increases, leading to higher prices. However, this is not necessarily a bad thing. In a growing economy, higher prices can reflect increased productivity, innovation, and economic efficiency. The price mechanism helps to allocate resources towards the most valuable uses, driving economic growth and prosperity.\\n\\n**International Trade:**\\nPrice is a key determinant of international trade patterns. The law of comparative advantage, which states that countries should specialize in producing goods for which they have a lower opportunity cost, is closely tied to price. Countries with lower production costs or more efficient production processes will export goods at lower prices, while importing goods at higher prices. This leads to a more efficient allocation of resources globally, as countries specialize in producing goods for which they have a comparative advantage.\\n\\n**Additional Macroeconomic Aspects:**\\nPrice also influences other macroeconomic phenomena, such as:\\n\\n1. **Monetary Policy:** Central banks use interest rates to influence the price level and, subsequently, inflation expectations. By adjusting interest rates, central banks can affect the money supply, credit availability, and, ultimately, the price level.\\n2. **Fiscal Policy:** Government spending and taxation can also impact the price level. Expansionary fiscal policies, such as increased government spending, can lead to higher prices, while contractionary policies, such as tax increases, can lead to lower prices.\\n3. **Exchange Rates:** Changes in exchange rates can affect the price of imported goods and, subsequently, the overall price level. A depreciation of the exchange rate can make imports more expensive, leading to higher prices, while an appreciation can make imports cheaper, leading to lower prices.\\n\\nIn conclusion, the concept of price is a fundamental aspect of macroeconomics, influencing inflation, economic growth, international trade, and other macroeconomic phenomena. Understanding the role of price in these areas is essential for policymakers, economists, and business leaders seeking to navigate the complexities of the global economy.\", additional_kwargs={}, response_metadata={}, id='577999d6-5293-4181-a482-f0c0c8e05301'), HumanMessage(content='Here\\'s a question that could lead to this response:\\n\\n\"What are some key ways in which the concept of price extends beyond the microeconomic realm and influences macroeconomic phenomena, such as inflation, economic growth, and international trade?\"', additional_kwargs={}, response_metadata={}, id='c066dfe6-4bf7-49a9-9e82-90b126613641'), HumanMessage(content='The concept of price is a fundamental building block of economics, extending far beyond the microeconomic realm to influence various macroeconomic phenomena. Here are some key ways in which price affects macroeconomic outcomes:\\n\\n1. **Inflation**: Prices are a key driver of inflation, which is a sustained increase in the general price level of goods and services in an economy. As prices rise, the purchasing power of consumers decreases, leading to a decrease in the standard of living. Inflation can be caused by an increase in aggregate demand, a decrease in aggregate supply, or an increase in the money supply.\\n\\n2. **Economic Growth**: Prices play a crucial role in economic growth by influencing the allocation of resources. When prices are high, producers are incentivized to produce more, leading to an increase in supply and economic growth. Conversely, low prices can lead to a decrease in supply and economic stagnation.\\n\\n3. **International Trade**: Prices are a key determinant of international trade patterns. Countries with lower prices for goods and services tend to export more, while countries with higher prices tend to import more. This is because prices reflect the opportunity cost of production, and countries with lower prices can produce goods and services more cheaply.\\n\\n4. **Monetary Policy**: Prices are a key indicator of the effectiveness of monetary policy. Central banks use interest rates to influence the money supply and, subsequently, prices. When interest rates are low, the money supply increases, leading to higher prices. Conversely, when interest rates are high, the money supply decreases, leading to lower prices.\\n\\n5. **Supply and Demand Imbalances**: Prices can also reflect supply and demand imbalances in specific markets. When demand exceeds supply, prices rise, and when supply exceeds demand, prices fall. This can lead to economic instability and fluctuations in economic growth.\\n\\n6. **Resource Allocation**: Prices play a crucial role in resource allocation by reflecting the opportunity cost of production. When prices are high, producers are incentivized to produce more of a particular good or service, while when prices are low, producers are incentivized to produce less.\\n\\n7. **Inequality and Distribution**: Prices can also influence income inequality and distribution. When prices rise, the purchasing power of consumers decreases, leading to a decrease in the standard of living for low-income households. Conversely, when prices fall, the purchasing power of consumers increases, leading to an increase in the standard of living for low-income households.\\n\\nIn conclusion, prices are a fundamental concept in economics that extends far beyond the microeconomic realm to influence various macroeconomic phenomena. Understanding the role of prices in shaping economic outcomes is essential for policymakers, businesses, and individuals seeking to navigate the complexities of the economy.', additional_kwargs={}, response_metadata={}, id='05ab6410-87fd-485a-84f0-2ffd7367c77b'), HumanMessage(content=\"Here's a question that I'd like to ask based on the provided content:\\n\\nWhat is the primary driver of inflation, according to the text, and how does it affect the standard of living of consumers?\", additional_kwargs={}, response_metadata={}, id='f64d66d7-66d0-49dc-9edf-4c8aff471781')]}\n",
            "{'messages': [HumanMessage(content='What is the meaning of price?', additional_kwargs={}, response_metadata={}, id='c50b74a0-1a61-41f0-9a67-d2f7b575027b'), HumanMessage(content=\"As an Austrian economics professor, I'd be delighted to provide a comprehensive explanation of the concept of price.\\n\\n**The Meaning of Price**\\n\\nIn economics, price is a fundamental concept that represents the amount of money exchanged for a good or service in a market transaction. It is a crucial mechanism that facilitates the allocation of resources, coordinates the actions of buyers and sellers, and reflects the relative scarcity of goods and services.\\n\\n**Key Characteristics of Price**\\n\\n1. **Relative Value**: Price is a relative concept, meaning it is determined by the interaction of supply and demand in a market. It reflects the relative value of a good or service compared to other goods and services.\\n2. **Subjective Value**: Price is a subjective measure, as it is determined by the valuations of individual buyers and sellers. Each person's willingness to pay or accept a price is influenced by their personal preferences, needs, and circumstances.\\n3. **Market-Determined**: Price is determined by the market forces of supply and demand, rather than by any external authority or government intervention.\\n4. **Dynamic**: Price is not a fixed or static concept. It can fluctuate in response to changes in supply and demand, technological advancements, and other market factors.\\n\\n**Functions of Price**\\n\\n1. **Resource Allocation**: Price helps to allocate resources efficiently by directing them towards their most valuable uses.\\n2. **Coordination**: Price facilitates the coordination of economic activity by providing a common language and framework for buyers and sellers to communicate and negotiate.\\n3. **Information**: Price conveys information about the relative scarcity and value of goods and services, helping buyers and sellers make informed decisions.\\n4. **Incentives**: Price provides incentives for producers to innovate, improve quality, and reduce costs, as well as for consumers to make rational purchasing decisions.\\n\\n**Conclusion**\\n\\nIn conclusion, price is a multifaceted concept that plays a vital role in the functioning of markets. It reflects the relative scarcity and value of goods and services, facilitates resource allocation and coordination, conveys information, and provides incentives for economic activity. As an Austrian economics professor, I emphasize the importance of understanding price as a subjective, market-determined, and dynamic concept that is essential for a well-functioning economy.\", additional_kwargs={}, response_metadata={}, id='46b7de08-e346-43f2-920e-ba6c49b7f102'), HumanMessage(content=\"Here's a question that I'd like to ask in response to the provided explanation of the concept of price:\\n\\nWhile the explanation highlights the importance of price in facilitating resource allocation, coordination, and conveying information, it seems to focus primarily on the microeconomic aspects of price. However, price also plays a crucial role in macroeconomic phenomena, such as inflation, economic growth, and international trade. \\n\\nCan you elaborate on how the concept of price relates to these macroeconomic aspects, and how it influences the overall performance of an economy?\", additional_kwargs={}, response_metadata={}, id='12b9dee9-c310-4b2b-a1ee-703d1a2418e9'), HumanMessage(content=\"An astute observation, my inquisitive student. Indeed, the concept of price extends far beyond the microeconomic realm, influencing macroeconomic phenomena in profound ways. Let us delve into the intricacies of price's relationship with inflation, economic growth, and international trade.\\n\\n**Inflation:**\\nPrice plays a pivotal role in the inflation process. As the money supply increases, the demand for goods and services rises, leading to higher prices. This is because the increased money supply chases a constant quantity of goods, driving up their prices. Inflation, therefore, is a monetary phenomenon, and price is a key indicator of its presence. The general price level, measured by the Consumer Price Index (CPI), is a widely used metric to track inflation.\\n\\n**Economic Growth:**\\nPrice is also a crucial factor in economic growth. As an economy grows, the demand for goods and services increases, leading to higher prices. However, this is not necessarily a bad thing. In a growing economy, higher prices can reflect increased productivity, innovation, and economic efficiency. The price mechanism helps to allocate resources towards the most valuable uses, driving economic growth and prosperity.\\n\\n**International Trade:**\\nPrice is a key determinant of international trade patterns. The law of comparative advantage, which states that countries should specialize in producing goods for which they have a lower opportunity cost, is closely tied to price. Countries with lower production costs or more efficient production processes will export goods at lower prices, while importing goods at higher prices. This leads to a more efficient allocation of resources globally, as countries specialize in producing goods for which they have a comparative advantage.\\n\\n**Additional Macroeconomic Aspects:**\\nPrice also influences other macroeconomic phenomena, such as:\\n\\n1. **Monetary Policy:** Central banks use interest rates to influence the price level and, subsequently, inflation expectations. By adjusting interest rates, central banks can affect the money supply, credit availability, and, ultimately, the price level.\\n2. **Fiscal Policy:** Government spending and taxation can also impact the price level. Expansionary fiscal policies, such as increased government spending, can lead to higher prices, while contractionary policies, such as tax increases, can lead to lower prices.\\n3. **Exchange Rates:** Changes in exchange rates can affect the price of imported goods and, subsequently, the overall price level. A depreciation of the exchange rate can make imports more expensive, leading to higher prices, while an appreciation can make imports cheaper, leading to lower prices.\\n\\nIn conclusion, the concept of price is a fundamental aspect of macroeconomics, influencing inflation, economic growth, international trade, and other macroeconomic phenomena. Understanding the role of price in these areas is essential for policymakers, economists, and business leaders seeking to navigate the complexities of the global economy.\", additional_kwargs={}, response_metadata={}, id='577999d6-5293-4181-a482-f0c0c8e05301'), HumanMessage(content='Here\\'s a question that could lead to this response:\\n\\n\"What are some key ways in which the concept of price extends beyond the microeconomic realm and influences macroeconomic phenomena, such as inflation, economic growth, and international trade?\"', additional_kwargs={}, response_metadata={}, id='c066dfe6-4bf7-49a9-9e82-90b126613641'), HumanMessage(content='The concept of price is a fundamental building block of economics, extending far beyond the microeconomic realm to influence various macroeconomic phenomena. Here are some key ways in which price affects macroeconomic outcomes:\\n\\n1. **Inflation**: Prices are a key driver of inflation, which is a sustained increase in the general price level of goods and services in an economy. As prices rise, the purchasing power of consumers decreases, leading to a decrease in the standard of living. Inflation can be caused by an increase in aggregate demand, a decrease in aggregate supply, or an increase in the money supply.\\n\\n2. **Economic Growth**: Prices play a crucial role in economic growth by influencing the allocation of resources. When prices are high, producers are incentivized to produce more, leading to an increase in supply and economic growth. Conversely, low prices can lead to a decrease in supply and economic stagnation.\\n\\n3. **International Trade**: Prices are a key determinant of international trade patterns. Countries with lower prices for goods and services tend to export more, while countries with higher prices tend to import more. This is because prices reflect the opportunity cost of production, and countries with lower prices can produce goods and services more cheaply.\\n\\n4. **Monetary Policy**: Prices are a key indicator of the effectiveness of monetary policy. Central banks use interest rates to influence the money supply and, subsequently, prices. When interest rates are low, the money supply increases, leading to higher prices. Conversely, when interest rates are high, the money supply decreases, leading to lower prices.\\n\\n5. **Supply and Demand Imbalances**: Prices can also reflect supply and demand imbalances in specific markets. When demand exceeds supply, prices rise, and when supply exceeds demand, prices fall. This can lead to economic instability and fluctuations in economic growth.\\n\\n6. **Resource Allocation**: Prices play a crucial role in resource allocation by reflecting the opportunity cost of production. When prices are high, producers are incentivized to produce more of a particular good or service, while when prices are low, producers are incentivized to produce less.\\n\\n7. **Inequality and Distribution**: Prices can also influence income inequality and distribution. When prices rise, the purchasing power of consumers decreases, leading to a decrease in the standard of living for low-income households. Conversely, when prices fall, the purchasing power of consumers increases, leading to an increase in the standard of living for low-income households.\\n\\nIn conclusion, prices are a fundamental concept in economics that extends far beyond the microeconomic realm to influence various macroeconomic phenomena. Understanding the role of prices in shaping economic outcomes is essential for policymakers, businesses, and individuals seeking to navigate the complexities of the economy.', additional_kwargs={}, response_metadata={}, id='05ab6410-87fd-485a-84f0-2ffd7367c77b'), HumanMessage(content=\"Here's a question that I'd like to ask based on the provided content:\\n\\nWhat is the primary driver of inflation, according to the text, and how does it affect the standard of living of consumers?\", additional_kwargs={}, response_metadata={}, id='f64d66d7-66d0-49dc-9edf-4c8aff471781'), HumanMessage(content='A most excellent question, my inquisitive student.  According to the principles of Austrian economics, the primary driver of inflation is an increase in the money supply, specifically an expansion of credit and the creation of new money by central banks. This is often referred to as the \"monetary inflation\" or \"credit inflation\" theory.\\n\\nWhen a central bank injects more money into the economy, it increases the demand for goods and services, causing prices to rise. This is because the increased money supply chases a constant quantity of goods and services, driving up their prices. As prices rise, the purchasing power of consumers\\' money decreases, leading to a decrease in their standard of living.\\n\\nTo illustrate this concept, let\\'s consider a simple example. Suppose a central bank increases the money supply by 10%, causing prices to rise by 10%. If a consumer had $100 last year, they could buy 100 units of a good. However, with the 10% price increase, their $100 can now only buy 90 units of the same good. In this scenario, the consumer\\'s standard of living has decreased, despite the fact that their nominal income remains the same.\\n\\nIn conclusion, the primary driver of inflation, according to Austrian economics, is an increase in the money supply, which leads to a decrease in the standard of living of consumers as their purchasing power is eroded by rising prices.', additional_kwargs={}, response_metadata={}, id='6716f66a-8e68-4e65-a39c-9ba1db789b61')]}\n"
          ]
        }
      ]
    },
    {
      "cell_type": "code",
      "source": [
        "from textwrap import TextWrapper\n",
        "wrapper = TextWrapper(width=120) # utility to format text and keep it within the console's margins\n",
        "\n",
        "final_answer = workflow.invoke(chat_init)['messages']\n",
        "\n",
        "for i, msg in enumerate(final_answer):\n",
        "    print(f\"\\n---- Answer # {i} ----\\n\")\n",
        "    paragraphs = msg.content.splitlines()  # to maintain the string's format (paragraphs, etc.)\n",
        "    wrapped_text = \"\\n\".join([wrapper.fill(p) for p in paragraphs])\n",
        "    print(wrapped_text)"
      ],
      "metadata": {
        "colab": {
          "base_uri": "https://localhost:8080/"
        },
        "id": "mudZKSUu5P4k",
        "outputId": "7c7a1d2b-c8ea-4fba-d5a9-b53380a7f4ab"
      },
      "execution_count": null,
      "outputs": [
        {
          "output_type": "stream",
          "name": "stdout",
          "text": [
            "\n",
            "---- Answer # 0 ----\n",
            "\n",
            "What is the meaning of price?\n",
            "\n",
            "---- Answer # 1 ----\n",
            "\n",
            "As an Austrian economics professor, I'd be delighted to provide a comprehensive explanation of the concept of price.\n",
            "\n",
            "**The Meaning of Price**\n",
            "\n",
            "In economics, price is a fundamental concept that represents the amount of money exchanged for a good or service in a\n",
            "market transaction. It is a crucial mechanism that facilitates the allocation of resources, coordinates the actions of\n",
            "buyers and sellers, and reflects the relative scarcity of goods and services.\n",
            "\n",
            "**Key Characteristics of Price**\n",
            "\n",
            "1. **Relative Value**: Price is a relative concept, meaning it is determined by the interaction of supply and demand in\n",
            "a market. It reflects the relative value of a good or service compared to other goods and services.\n",
            "2. **Subjective Value**: Price is a subjective measure, as it is determined by the valuations of individual buyers and\n",
            "sellers. Each person's willingness to pay or accept a price is influenced by their personal preferences, needs, and\n",
            "circumstances.\n",
            "3. **Market-Determined**: Price is determined by the market forces of supply and demand, rather than by any external\n",
            "authority or government intervention.\n",
            "4. **Dynamic**: Price is not a fixed or static concept. It can fluctuate in response to changes in supply and demand,\n",
            "technological advancements, and other market factors.\n",
            "\n",
            "**Functions of Price**\n",
            "\n",
            "1. **Resource Allocation**: Price helps to allocate resources efficiently by directing them towards their most valuable\n",
            "uses.\n",
            "2. **Coordination**: Price facilitates the coordination of economic activity by providing a common language and\n",
            "framework for buyers and sellers to communicate and negotiate.\n",
            "3. **Information**: Price conveys information about the relative scarcity and value of goods and services, helping\n",
            "buyers and sellers make informed decisions.\n",
            "4. **Incentives**: Price provides incentives for producers to innovate, improve quality, and reduce costs, as well as\n",
            "for consumers to make rational purchasing decisions.\n",
            "\n",
            "**Conclusion**\n",
            "\n",
            "In conclusion, price is a multifaceted concept that plays a vital role in the functioning of markets. It reflects the\n",
            "relative scarcity and value of goods and services, facilitates resource allocation and coordination, conveys\n",
            "information, and provides incentives for economic activity. As an Austrian economics professor, I emphasize the\n",
            "importance of understanding price as a subjective, market-determined, and dynamic concept that is essential for a well-\n",
            "functioning economy.\n",
            "\n",
            "---- Answer # 2 ----\n",
            "\n",
            "Here's a question that I'd like to ask in response to the provided explanation of the concept of price:\n",
            "\n",
            "While the explanation highlights the importance of price in facilitating resource allocation, coordination, and\n",
            "conveying information, it seems to focus primarily on the microeconomic aspects of price. However, price also plays a\n",
            "crucial role in macroeconomic phenomena, such as inflation, economic growth, and international trade.\n",
            "\n",
            "Can you elaborate on how the concept of price relates to these macroeconomic aspects, and how it influences the overall\n",
            "performance of an economy?\n",
            "\n",
            "---- Answer # 3 ----\n",
            "\n",
            "An astute observation, my inquisitive student. Indeed, the concept of price extends far beyond the microeconomic realm,\n",
            "influencing macroeconomic phenomena in profound ways. Let us delve into the intricacies of price's relationship with\n",
            "inflation, economic growth, and international trade.\n",
            "\n",
            "**Inflation:**\n",
            "Price plays a pivotal role in the inflation process. As the money supply increases, the demand for goods and services\n",
            "rises, leading to higher prices. This is because the increased money supply chases a constant quantity of goods, driving\n",
            "up their prices. Inflation, therefore, is a monetary phenomenon, and price is a key indicator of its presence. The\n",
            "general price level, measured by the Consumer Price Index (CPI), is a widely used metric to track inflation.\n",
            "\n",
            "**Economic Growth:**\n",
            "Price is also a crucial factor in economic growth. As an economy grows, the demand for goods and services increases,\n",
            "leading to higher prices. However, if the growth is driven by productivity gains and technological advancements, prices\n",
            "may not rise as much, indicating a healthy economy. On the other hand, if prices rise rapidly, it may indicate an\n",
            "economy experiencing cost-push inflation, where higher production costs lead to higher prices. In this case, economic\n",
            "growth may be unsustainable.\n",
            "\n",
            "**International Trade:**\n",
            "Price is a key determinant of international trade. The law of comparative advantage, which states that countries should\n",
            "specialize in producing goods for which they have a lower opportunity cost, is closely tied to price. Countries with\n",
            "lower production costs, due to factors such as lower labor costs or more efficient production processes, can export\n",
            "goods at a lower price, making them more competitive in the global market. This leads to trade specialization and\n",
            "increased economic efficiency.\n",
            "\n",
            "**Additional Macroeconomic Aspects:**\n",
            "Price also influences other macroeconomic phenomena, such as:\n",
            "\n",
            "1. **Fiscal Policy:** Changes in government spending and taxation can affect prices, as increased government spending\n",
            "can lead to higher demand and prices, while tax increases can reduce demand and prices.\n",
            "2. **Monetary Policy:** Central banks use interest rates to influence the money supply and, subsequently, prices. Higher\n",
            "interest rates can reduce borrowing and spending, leading to lower prices, while lower interest rates can increase\n",
            "borrowing and spending, leading to higher prices.\n",
            "3. **Exchange Rates:** Changes in exchange rates can affect prices, as a weaker currency can make imports more\n",
            "expensive, leading to higher prices, while a stronger currency can make exports cheaper, leading to lower prices.\n",
            "\n",
            "In conclusion, the concept of price is a fundamental aspect of macroeconomics, influencing inflation, economic growth,\n",
            "international trade, and other macroeconomic phenomena. Understanding the relationship between price and these\n",
            "macroeconomic aspects is essential for policymakers and economists seeking to promote economic stability and growth.\n",
            "\n",
            "---- Answer # 4 ----\n",
            "\n",
            "Here's a question that I'd like to ask based on the provided text:\n",
            "\n",
            "\"How does the concept of price influence the relationship between fiscal policy and monetary policy in a macroeconomic\n",
            "context, and what are the potential implications for economic stability and growth?\"\n",
            "\n",
            "---- Answer # 5 ----\n",
            "\n",
            "As an Austrian economics professor, I'd be delighted to provide a comprehensive answer to your question.\n",
            "\n",
            "**The Interplay between Fiscal Policy and Monetary Policy: A Price Perspective**\n",
            "\n",
            "In a macroeconomic context, the concept of price plays a crucial role in shaping the relationship between fiscal policy\n",
            "and monetary policy. Fiscal policy, which involves government spending and taxation, and monetary policy, which involves\n",
            "the manipulation of interest rates and money supply, are two distinct tools used to stabilize the economy and promote\n",
            "growth.\n",
            "\n",
            "**Price Mechanism and Fiscal Policy**\n",
            "\n",
            "Fiscal policy affects prices through its impact on aggregate demand. When the government increases spending or cuts\n",
            "taxes, it injects more money into the economy, leading to an increase in aggregate demand. This, in turn, drives up\n",
            "prices as businesses respond to the increased demand by raising their prices. Conversely, when the government reduces\n",
            "spending or increases taxes, it reduces aggregate demand, leading to lower prices.\n",
            "\n",
            "**Price Mechanism and Monetary Policy**\n",
            "\n",
            "Monetary policy, on the other hand, affects prices through its impact on the money supply and interest rates. When the\n",
            "central bank increases the money supply or lowers interest rates, it becomes cheaper for businesses and consumers to\n",
            "borrow money, leading to an increase in aggregate demand and, subsequently, prices. Conversely, when the central bank\n",
            "reduces the money supply or raises interest rates, it becomes more expensive for businesses and consumers to borrow\n",
            "money, leading to a decrease in aggregate demand and, subsequently, prices.\n",
            "\n",
            "**The Interaction between Fiscal and Monetary Policy**\n",
            "\n",
            "The interaction between fiscal and monetary policy is crucial in determining the overall price level. When fiscal policy\n",
            "is expansionary (i.e., government spending increases or taxes decrease), it can lead to higher prices if monetary policy\n",
            "is not adjusted accordingly. Conversely, when fiscal policy is contractionary (i.e., government spending decreases or\n",
            "taxes increase), it can lead to lower prices if monetary policy is not adjusted accordingly.\n",
            "\n",
            "**Implications for Economic Stability and Growth**\n",
            "\n",
            "The potential implications of the interaction between fiscal and monetary policy on economic stability and growth are\n",
            "significant:\n",
            "\n",
            "1. **Inflation**: Excessive expansionary fiscal policy combined with loose monetary policy can lead to high inflation,\n",
            "as the increased money supply chases a limited number of goods and services.\n",
            "2. **Stagflation**: A combination of high inflation and stagnant economic growth can occur when fiscal policy is\n",
            "expansionary, but monetary policy is not adjusted to accommodate the increased demand.\n",
            "3. **Deflation**: Contractionary fiscal policy combined with tight monetary policy can lead to deflation, as the reduced\n",
            "money supply chases a limited number of goods and services.\n",
            "4. **Economic Instability**: The interaction between fiscal and monetary policy can lead to economic instability, as\n",
            "changes in one policy can have unintended consequences on the other policy.\n",
            "\n",
            "**Conclusion**\n",
            "\n",
            "In conclusion, the concept of price plays a crucial role in shaping the relationship between fiscal policy and monetary\n",
            "policy in a macroeconomic context. The interaction between these two policies can have significant implications for\n",
            "economic stability and growth, including inflation, stagflation, deflation, and economic instability. As policymakers,\n",
            "it is essential to carefully consider the potential consequences of their actions and adjust their policies accordingly\n",
            "to promote economic stability and growth.\n",
            "\n",
            "**Recommendations**\n",
            "\n",
            "To promote economic stability and growth, policymakers should:\n",
            "\n",
            "1. **Monitor price levels**: Regularly monitor price levels to ensure that they are within a stable range.\n",
            "2. **Adjust fiscal and monetary policy**: Adjust fiscal and monetary policy in response to changes in price levels to\n",
            "prevent excessive inflation or deflation.\n",
            "3. **Use monetary policy to stabilize prices**: Use monetary policy to stabilize prices, rather than relying solely on\n",
            "fiscal policy.\n",
            "4. **Avoid over-reliance on fiscal policy**: Avoid over-reliance on fiscal policy, as it can lead to excessive\n",
            "government spending and debt.\n",
            "\n",
            "By following these recommendations, policymakers can promote economic stability and growth while minimizing the risks\n",
            "associated with the interaction between fiscal and monetary policy.\n",
            "\n",
            "---- Answer # 6 ----\n",
            "\n",
            "Here's a question that I'd like to ask in response to the provided text:\n",
            "\n",
            "While the text highlights the importance of monitoring price levels and adjusting fiscal and monetary policy in response\n",
            "to changes in price levels, it does not explicitly discuss the role of expectations in shaping the relationship between\n",
            "fiscal policy and monetary policy. How do expectations of future price changes influence the effectiveness of fiscal and\n",
            "monetary policy, and what are the potential implications for economic stability and growth?\n",
            "\n",
            "---- Answer # 7 ----\n",
            "\n",
            "An excellent question, my inquisitive student. The role of expectations in shaping the relationship between fiscal\n",
            "policy and monetary policy is a crucial aspect of understanding the dynamics of economic systems.\n",
            "\n",
            "In the context of Austrian economics, expectations of future price changes play a pivotal role in influencing the\n",
            "effectiveness of fiscal and monetary policy. The Austrian School emphasizes the importance of subjective expectations,\n",
            "which are shaped by individual perceptions of the future. These expectations, in turn, influence the decisions of\n",
            "economic agents, such as consumers, producers, and investors.\n",
            "\n",
            "When expectations of future price changes are high, economic agents may become more cautious in their spending and\n",
            "investment decisions, leading to reduced aggregate demand. This, in turn, can limit the effectiveness of fiscal policy,\n",
            "as increased government spending or tax cuts may not stimulate economic activity as much as expected. Similarly,\n",
            "monetary policy may be less effective in stimulating economic growth when expectations of future price changes are high,\n",
            "as higher interest rates may not be sufficient to induce borrowing and spending.\n",
            "\n",
            "On the other hand, when expectations of future price changes are low, economic agents may become more optimistic and\n",
            "increase their spending and investment decisions, leading to increased aggregate demand. This, in turn, can enhance the\n",
            "effectiveness of fiscal policy, as increased government spending or tax cuts may stimulate economic activity more\n",
            "significantly. Similarly, monetary policy may be more effective in stimulating economic growth when expectations of\n",
            "future price changes are low, as lower interest rates may induce borrowing and spending.\n",
            "\n",
            "The potential implications of expectations on economic stability and growth are significant. When expectations of future\n",
            "price changes are high, it can lead to a self-reinforcing cycle of reduced economic activity, lower aggregate demand,\n",
            "and higher unemployment. This can result in economic instability and stagnation. Conversely, when expectations of future\n",
            "price changes are low, it can lead to a self-reinforcing cycle of increased economic activity, higher aggregate demand,\n",
            "and lower unemployment, resulting in economic growth and stability.\n",
            "\n",
            "In conclusion, the role of expectations in shaping the relationship between fiscal policy and monetary policy is a\n",
            "critical aspect of understanding the dynamics of economic systems. The Austrian School's emphasis on subjective\n",
            "expectations highlights the importance of individual perceptions of the future in influencing economic decisions and\n",
            "outcomes. By recognizing the significance of expectations, policymakers can develop more effective policies that take\n",
            "into account the complex interplay between fiscal and monetary policy, and the subjective expectations of economic\n",
            "agents.\n"
          ]
        }
      ]
    },
    {
      "cell_type": "code",
      "source": [],
      "metadata": {
        "id": "fFqaqIGy86N-"
      },
      "execution_count": null,
      "outputs": []
    }
  ]
}